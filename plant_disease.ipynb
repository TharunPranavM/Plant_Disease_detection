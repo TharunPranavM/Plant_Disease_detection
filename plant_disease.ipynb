{
  "nbformat": 4,
  "nbformat_minor": 0,
  "metadata": {
    "colab": {
      "provenance": [],
      "gpuType": "T4"
    },
    "kernelspec": {
      "name": "python3",
      "display_name": "Python 3"
    },
    "language_info": {
      "name": "python"
    },
    "accelerator": "GPU"
  },
  "cells": [
    {
      "cell_type": "code",
      "source": [
        "!pip install ultralytics"
      ],
      "metadata": {
        "colab": {
          "base_uri": "https://localhost:8080/"
        },
        "id": "6feWHbFs0zIX",
        "outputId": "0c64a4b7-ba9d-4947-c8b4-a337c7ad40f6"
      },
      "execution_count": null,
      "outputs": [
        {
          "output_type": "stream",
          "name": "stdout",
          "text": [
            "Collecting ultralytics\n",
            "  Downloading ultralytics-8.3.2-py3-none-any.whl.metadata (34 kB)\n",
            "Requirement already satisfied: numpy<2.0.0,>=1.23.0 in /usr/local/lib/python3.10/dist-packages (from ultralytics) (1.26.4)\n",
            "Requirement already satisfied: matplotlib>=3.3.0 in /usr/local/lib/python3.10/dist-packages (from ultralytics) (3.7.1)\n",
            "Requirement already satisfied: opencv-python>=4.6.0 in /usr/local/lib/python3.10/dist-packages (from ultralytics) (4.10.0.84)\n",
            "Requirement already satisfied: pillow>=7.1.2 in /usr/local/lib/python3.10/dist-packages (from ultralytics) (10.4.0)\n",
            "Requirement already satisfied: pyyaml>=5.3.1 in /usr/local/lib/python3.10/dist-packages (from ultralytics) (6.0.2)\n",
            "Requirement already satisfied: requests>=2.23.0 in /usr/local/lib/python3.10/dist-packages (from ultralytics) (2.32.3)\n",
            "Requirement already satisfied: scipy>=1.4.1 in /usr/local/lib/python3.10/dist-packages (from ultralytics) (1.13.1)\n",
            "Requirement already satisfied: torch>=1.8.0 in /usr/local/lib/python3.10/dist-packages (from ultralytics) (2.4.1+cu121)\n",
            "Requirement already satisfied: torchvision>=0.9.0 in /usr/local/lib/python3.10/dist-packages (from ultralytics) (0.19.1+cu121)\n",
            "Requirement already satisfied: tqdm>=4.64.0 in /usr/local/lib/python3.10/dist-packages (from ultralytics) (4.66.5)\n",
            "Requirement already satisfied: psutil in /usr/local/lib/python3.10/dist-packages (from ultralytics) (5.9.5)\n",
            "Requirement already satisfied: py-cpuinfo in /usr/local/lib/python3.10/dist-packages (from ultralytics) (9.0.0)\n",
            "Requirement already satisfied: pandas>=1.1.4 in /usr/local/lib/python3.10/dist-packages (from ultralytics) (2.1.4)\n",
            "Requirement already satisfied: seaborn>=0.11.0 in /usr/local/lib/python3.10/dist-packages (from ultralytics) (0.13.1)\n",
            "Collecting ultralytics-thop>=2.0.0 (from ultralytics)\n",
            "  Downloading ultralytics_thop-2.0.8-py3-none-any.whl.metadata (9.3 kB)\n",
            "Requirement already satisfied: contourpy>=1.0.1 in /usr/local/lib/python3.10/dist-packages (from matplotlib>=3.3.0->ultralytics) (1.3.0)\n",
            "Requirement already satisfied: cycler>=0.10 in /usr/local/lib/python3.10/dist-packages (from matplotlib>=3.3.0->ultralytics) (0.12.1)\n",
            "Requirement already satisfied: fonttools>=4.22.0 in /usr/local/lib/python3.10/dist-packages (from matplotlib>=3.3.0->ultralytics) (4.53.1)\n",
            "Requirement already satisfied: kiwisolver>=1.0.1 in /usr/local/lib/python3.10/dist-packages (from matplotlib>=3.3.0->ultralytics) (1.4.7)\n",
            "Requirement already satisfied: packaging>=20.0 in /usr/local/lib/python3.10/dist-packages (from matplotlib>=3.3.0->ultralytics) (24.1)\n",
            "Requirement already satisfied: pyparsing>=2.3.1 in /usr/local/lib/python3.10/dist-packages (from matplotlib>=3.3.0->ultralytics) (3.1.4)\n",
            "Requirement already satisfied: python-dateutil>=2.7 in /usr/local/lib/python3.10/dist-packages (from matplotlib>=3.3.0->ultralytics) (2.8.2)\n",
            "Requirement already satisfied: pytz>=2020.1 in /usr/local/lib/python3.10/dist-packages (from pandas>=1.1.4->ultralytics) (2024.2)\n",
            "Requirement already satisfied: tzdata>=2022.1 in /usr/local/lib/python3.10/dist-packages (from pandas>=1.1.4->ultralytics) (2024.1)\n",
            "Requirement already satisfied: charset-normalizer<4,>=2 in /usr/local/lib/python3.10/dist-packages (from requests>=2.23.0->ultralytics) (3.3.2)\n",
            "Requirement already satisfied: idna<4,>=2.5 in /usr/local/lib/python3.10/dist-packages (from requests>=2.23.0->ultralytics) (3.10)\n",
            "Requirement already satisfied: urllib3<3,>=1.21.1 in /usr/local/lib/python3.10/dist-packages (from requests>=2.23.0->ultralytics) (2.2.3)\n",
            "Requirement already satisfied: certifi>=2017.4.17 in /usr/local/lib/python3.10/dist-packages (from requests>=2.23.0->ultralytics) (2024.8.30)\n",
            "Requirement already satisfied: filelock in /usr/local/lib/python3.10/dist-packages (from torch>=1.8.0->ultralytics) (3.16.1)\n",
            "Requirement already satisfied: typing-extensions>=4.8.0 in /usr/local/lib/python3.10/dist-packages (from torch>=1.8.0->ultralytics) (4.12.2)\n",
            "Requirement already satisfied: sympy in /usr/local/lib/python3.10/dist-packages (from torch>=1.8.0->ultralytics) (1.13.3)\n",
            "Requirement already satisfied: networkx in /usr/local/lib/python3.10/dist-packages (from torch>=1.8.0->ultralytics) (3.3)\n",
            "Requirement already satisfied: jinja2 in /usr/local/lib/python3.10/dist-packages (from torch>=1.8.0->ultralytics) (3.1.4)\n",
            "Requirement already satisfied: fsspec in /usr/local/lib/python3.10/dist-packages (from torch>=1.8.0->ultralytics) (2024.6.1)\n",
            "Requirement already satisfied: six>=1.5 in /usr/local/lib/python3.10/dist-packages (from python-dateutil>=2.7->matplotlib>=3.3.0->ultralytics) (1.16.0)\n",
            "Requirement already satisfied: MarkupSafe>=2.0 in /usr/local/lib/python3.10/dist-packages (from jinja2->torch>=1.8.0->ultralytics) (2.1.5)\n",
            "Requirement already satisfied: mpmath<1.4,>=1.1.0 in /usr/local/lib/python3.10/dist-packages (from sympy->torch>=1.8.0->ultralytics) (1.3.0)\n",
            "Downloading ultralytics-8.3.2-py3-none-any.whl (881 kB)\n",
            "\u001b[2K   \u001b[90m━━━━━━━━━━━━━━━━━━━━━━━━━━━━━━━━━━━━━━━━\u001b[0m \u001b[32m881.4/881.4 kB\u001b[0m \u001b[31m21.1 MB/s\u001b[0m eta \u001b[36m0:00:00\u001b[0m\n",
            "\u001b[?25hDownloading ultralytics_thop-2.0.8-py3-none-any.whl (26 kB)\n",
            "Installing collected packages: ultralytics-thop, ultralytics\n",
            "Successfully installed ultralytics-8.3.2 ultralytics-thop-2.0.8\n"
          ]
        }
      ]
    },
    {
      "cell_type": "code",
      "source": [
        "!pip install roboflow"
      ],
      "metadata": {
        "colab": {
          "base_uri": "https://localhost:8080/"
        },
        "id": "bvxwKjZBVMsZ",
        "outputId": "f6374985-a15a-4405-8602-b7e0ffa66f8b"
      },
      "execution_count": null,
      "outputs": [
        {
          "output_type": "stream",
          "name": "stdout",
          "text": [
            "Collecting roboflow\n",
            "  Downloading roboflow-1.1.45-py3-none-any.whl.metadata (9.7 kB)\n",
            "Requirement already satisfied: certifi in /usr/local/lib/python3.10/dist-packages (from roboflow) (2024.8.30)\n",
            "Collecting idna==3.7 (from roboflow)\n",
            "  Downloading idna-3.7-py3-none-any.whl.metadata (9.9 kB)\n",
            "Requirement already satisfied: cycler in /usr/local/lib/python3.10/dist-packages (from roboflow) (0.12.1)\n",
            "Requirement already satisfied: kiwisolver>=1.3.1 in /usr/local/lib/python3.10/dist-packages (from roboflow) (1.4.7)\n",
            "Requirement already satisfied: matplotlib in /usr/local/lib/python3.10/dist-packages (from roboflow) (3.7.1)\n",
            "Requirement already satisfied: numpy>=1.18.5 in /usr/local/lib/python3.10/dist-packages (from roboflow) (1.26.4)\n",
            "Requirement already satisfied: opencv-python-headless==4.10.0.84 in /usr/local/lib/python3.10/dist-packages (from roboflow) (4.10.0.84)\n",
            "Requirement already satisfied: Pillow>=7.1.2 in /usr/local/lib/python3.10/dist-packages (from roboflow) (10.4.0)\n",
            "Requirement already satisfied: python-dateutil in /usr/local/lib/python3.10/dist-packages (from roboflow) (2.8.2)\n",
            "Collecting python-dotenv (from roboflow)\n",
            "  Downloading python_dotenv-1.0.1-py3-none-any.whl.metadata (23 kB)\n",
            "Requirement already satisfied: requests in /usr/local/lib/python3.10/dist-packages (from roboflow) (2.32.3)\n",
            "Requirement already satisfied: six in /usr/local/lib/python3.10/dist-packages (from roboflow) (1.16.0)\n",
            "Requirement already satisfied: urllib3>=1.26.6 in /usr/local/lib/python3.10/dist-packages (from roboflow) (2.2.3)\n",
            "Requirement already satisfied: tqdm>=4.41.0 in /usr/local/lib/python3.10/dist-packages (from roboflow) (4.66.5)\n",
            "Requirement already satisfied: PyYAML>=5.3.1 in /usr/local/lib/python3.10/dist-packages (from roboflow) (6.0.2)\n",
            "Collecting requests-toolbelt (from roboflow)\n",
            "  Downloading requests_toolbelt-1.0.0-py2.py3-none-any.whl.metadata (14 kB)\n",
            "Collecting filetype (from roboflow)\n",
            "  Downloading filetype-1.2.0-py2.py3-none-any.whl.metadata (6.5 kB)\n",
            "Requirement already satisfied: contourpy>=1.0.1 in /usr/local/lib/python3.10/dist-packages (from matplotlib->roboflow) (1.3.0)\n",
            "Requirement already satisfied: fonttools>=4.22.0 in /usr/local/lib/python3.10/dist-packages (from matplotlib->roboflow) (4.53.1)\n",
            "Requirement already satisfied: packaging>=20.0 in /usr/local/lib/python3.10/dist-packages (from matplotlib->roboflow) (24.1)\n",
            "Requirement already satisfied: pyparsing>=2.3.1 in /usr/local/lib/python3.10/dist-packages (from matplotlib->roboflow) (3.1.4)\n",
            "Requirement already satisfied: charset-normalizer<4,>=2 in /usr/local/lib/python3.10/dist-packages (from requests->roboflow) (3.3.2)\n",
            "Downloading roboflow-1.1.45-py3-none-any.whl (80 kB)\n",
            "\u001b[2K   \u001b[90m━━━━━━━━━━━━━━━━━━━━━━━━━━━━━━━━━━━━━━━━\u001b[0m \u001b[32m80.3/80.3 kB\u001b[0m \u001b[31m8.1 MB/s\u001b[0m eta \u001b[36m0:00:00\u001b[0m\n",
            "\u001b[?25hDownloading idna-3.7-py3-none-any.whl (66 kB)\n",
            "\u001b[2K   \u001b[90m━━━━━━━━━━━━━━━━━━━━━━━━━━━━━━━━━━━━━━━━\u001b[0m \u001b[32m66.8/66.8 kB\u001b[0m \u001b[31m6.2 MB/s\u001b[0m eta \u001b[36m0:00:00\u001b[0m\n",
            "\u001b[?25hDownloading filetype-1.2.0-py2.py3-none-any.whl (19 kB)\n",
            "Downloading python_dotenv-1.0.1-py3-none-any.whl (19 kB)\n",
            "Downloading requests_toolbelt-1.0.0-py2.py3-none-any.whl (54 kB)\n",
            "\u001b[2K   \u001b[90m━━━━━━━━━━━━━━━━━━━━━━━━━━━━━━━━━━━━━━━━\u001b[0m \u001b[32m54.5/54.5 kB\u001b[0m \u001b[31m5.2 MB/s\u001b[0m eta \u001b[36m0:00:00\u001b[0m\n",
            "\u001b[?25hInstalling collected packages: filetype, python-dotenv, idna, requests-toolbelt, roboflow\n",
            "  Attempting uninstall: idna\n",
            "    Found existing installation: idna 3.10\n",
            "    Uninstalling idna-3.10:\n",
            "      Successfully uninstalled idna-3.10\n",
            "Successfully installed filetype-1.2.0 idna-3.7 python-dotenv-1.0.1 requests-toolbelt-1.0.0 roboflow-1.1.45\n"
          ]
        }
      ]
    },
    {
      "cell_type": "code",
      "source": [],
      "metadata": {
        "id": "Q852RMuOSJcx"
      },
      "execution_count": null,
      "outputs": []
    },
    {
      "cell_type": "code",
      "source": [
        "from roboflow import Roboflow\n",
        "api_key = \"Lw3UkDYcaujWX75uoDdT\"\n",
        "rf = Roboflow(api_key=api_key)\n",
        "project = rf.workspace(\"joseph-nelson\").project(\"plantdoc\")\n",
        "version = project.version(2)\n",
        "dataset = version.download(\"yolov8\")"
      ],
      "metadata": {
        "colab": {
          "base_uri": "https://localhost:8080/"
        },
        "id": "z4ycJPcyVFiv",
        "outputId": "90435bc6-2d17-49bb-c927-5aebbbbf15e6"
      },
      "execution_count": null,
      "outputs": [
        {
          "output_type": "stream",
          "name": "stdout",
          "text": [
            "loading Roboflow workspace...\n",
            "loading Roboflow project...\n",
            "Dependency ultralytics==8.0.196 is required but found version=8.3.2, to fix: `pip install ultralytics==8.0.196`\n"
          ]
        }
      ]
    },
    {
      "cell_type": "code",
      "source": [
        "from ultralytics import YOLO\n",
        "\n",
        "# Load a model\n",
        "model = YOLO('yolov8n.yaml')  # build a new model from YAML\n",
        "model = YOLO('yolov8n.pt')  # load a pretrained model (recommended for training)\n",
        "model = YOLO('yolov8n.yaml').load('yolov8n.pt')  # build from YAML and transfer weights\n",
        "\n",
        "# Train the model\n",
        "results = model.train(data='/content/PlantDoc-2/data.yaml', epochs=10, imgsz=640, batch=8)"
      ],
      "metadata": {
        "colab": {
          "base_uri": "https://localhost:8080/"
        },
        "id": "LRyc0TdG2Rab",
        "outputId": "58af01b4-fcf7-44b3-b0fa-daeadd102a7d"
      },
      "execution_count": null,
      "outputs": [
        {
          "output_type": "stream",
          "name": "stdout",
          "text": [
            "Transferred 319/391 items from pretrained weights\n",
            "Ultralytics 8.3.2 🚀 Python-3.10.12 torch-2.4.1+cu121 CUDA:0 (Tesla T4, 15102MiB)\n",
            "\u001b[34m\u001b[1mengine/trainer: \u001b[0mtask=detect, mode=train, model=yolov8n.yaml, data=/content/PlantDoc-2/data.yaml, epochs=10, time=None, patience=100, batch=8, imgsz=640, save=True, save_period=-1, cache=False, device=None, workers=8, project=None, name=train6, exist_ok=False, pretrained=yolov8n.pt, optimizer=auto, verbose=True, seed=0, deterministic=True, single_cls=False, rect=False, cos_lr=False, close_mosaic=10, resume=False, amp=True, fraction=1.0, profile=False, freeze=None, multi_scale=False, overlap_mask=True, mask_ratio=4, dropout=0.0, val=True, split=val, save_json=False, save_hybrid=False, conf=None, iou=0.7, max_det=300, half=False, dnn=False, plots=True, source=None, vid_stride=1, stream_buffer=False, visualize=False, augment=False, agnostic_nms=False, classes=None, retina_masks=False, embed=None, show=False, save_frames=False, save_txt=False, save_conf=False, save_crop=False, show_labels=True, show_conf=True, show_boxes=True, line_width=None, format=torchscript, keras=False, optimize=False, int8=False, dynamic=False, simplify=True, opset=None, workspace=4, nms=False, lr0=0.01, lrf=0.01, momentum=0.937, weight_decay=0.0005, warmup_epochs=3.0, warmup_momentum=0.8, warmup_bias_lr=0.1, box=7.5, cls=0.5, dfl=1.5, pose=12.0, kobj=1.0, label_smoothing=0.0, nbs=64, hsv_h=0.015, hsv_s=0.7, hsv_v=0.4, degrees=0.0, translate=0.1, scale=0.5, shear=0.0, perspective=0.0, flipud=0.0, fliplr=0.5, bgr=0.0, mosaic=1.0, mixup=0.0, copy_paste=0.0, copy_paste_mode=flip, auto_augment=randaugment, erasing=0.4, crop_fraction=1.0, cfg=None, tracker=botsort.yaml, save_dir=runs/detect/train6\n",
            "Downloading https://ultralytics.com/assets/Arial.ttf to '/root/.config/Ultralytics/Arial.ttf'...\n"
          ]
        },
        {
          "output_type": "stream",
          "name": "stderr",
          "text": [
            "100%|██████████| 755k/755k [00:00<00:00, 43.2MB/s]\n"
          ]
        },
        {
          "output_type": "stream",
          "name": "stdout",
          "text": [
            "Overriding model.yaml nc=80 with nc=30\n",
            "\n",
            "                   from  n    params  module                                       arguments                     \n",
            "  0                  -1  1       464  ultralytics.nn.modules.conv.Conv             [3, 16, 3, 2]                 \n",
            "  1                  -1  1      4672  ultralytics.nn.modules.conv.Conv             [16, 32, 3, 2]                \n",
            "  2                  -1  1      7360  ultralytics.nn.modules.block.C2f             [32, 32, 1, True]             \n",
            "  3                  -1  1     18560  ultralytics.nn.modules.conv.Conv             [32, 64, 3, 2]                \n",
            "  4                  -1  2     49664  ultralytics.nn.modules.block.C2f             [64, 64, 2, True]             \n",
            "  5                  -1  1     73984  ultralytics.nn.modules.conv.Conv             [64, 128, 3, 2]               \n",
            "  6                  -1  2    197632  ultralytics.nn.modules.block.C2f             [128, 128, 2, True]           \n",
            "  7                  -1  1    295424  ultralytics.nn.modules.conv.Conv             [128, 256, 3, 2]              \n",
            "  8                  -1  1    460288  ultralytics.nn.modules.block.C2f             [256, 256, 1, True]           \n",
            "  9                  -1  1    164608  ultralytics.nn.modules.block.SPPF            [256, 256, 5]                 \n",
            " 10                  -1  1         0  torch.nn.modules.upsampling.Upsample         [None, 2, 'nearest']          \n",
            " 11             [-1, 6]  1         0  ultralytics.nn.modules.conv.Concat           [1]                           \n",
            " 12                  -1  1    148224  ultralytics.nn.modules.block.C2f             [384, 128, 1]                 \n",
            " 13                  -1  1         0  torch.nn.modules.upsampling.Upsample         [None, 2, 'nearest']          \n",
            " 14             [-1, 4]  1         0  ultralytics.nn.modules.conv.Concat           [1]                           \n",
            " 15                  -1  1     37248  ultralytics.nn.modules.block.C2f             [192, 64, 1]                  \n",
            " 16                  -1  1     36992  ultralytics.nn.modules.conv.Conv             [64, 64, 3, 2]                \n",
            " 17            [-1, 12]  1         0  ultralytics.nn.modules.conv.Concat           [1]                           \n",
            " 18                  -1  1    123648  ultralytics.nn.modules.block.C2f             [192, 128, 1]                 \n",
            " 19                  -1  1    147712  ultralytics.nn.modules.conv.Conv             [128, 128, 3, 2]              \n",
            " 20             [-1, 9]  1         0  ultralytics.nn.modules.conv.Concat           [1]                           \n",
            " 21                  -1  1    493056  ultralytics.nn.modules.block.C2f             [384, 256, 1]                 \n",
            " 22        [15, 18, 21]  1    436522  ultralytics.nn.modules.head.Detect           [30, [64, 128, 256]]          \n",
            "YOLOv8n summary: 249 layers, 2,696,058 parameters, 2,696,042 gradients, 7.0 GFLOPs\n",
            "\n",
            "Transferred 340/391 items from pretrained weights\n",
            "\u001b[34m\u001b[1mTensorBoard: \u001b[0mStart with 'tensorboard --logdir runs/detect/train6', view at http://localhost:6006/\n",
            "Freezing layer 'model.22.dfl.conv.weight'\n",
            "\u001b[34m\u001b[1mAMP: \u001b[0mrunning Automatic Mixed Precision (AMP) checks with YOLO11n...\n",
            "Downloading https://github.com/ultralytics/assets/releases/download/v8.3.0/yolo11n.pt to 'yolo11n.pt'...\n"
          ]
        },
        {
          "output_type": "stream",
          "name": "stderr",
          "text": [
            "100%|██████████| 5.35M/5.35M [00:00<00:00, 173MB/s]"
          ]
        },
        {
          "output_type": "stream",
          "name": "stdout",
          "text": [
            "WARNING ⚠️ yolo11n.pt appears to require 'dill', which is not in Ultralytics requirements.\n",
            "AutoInstall will run now for 'dill' but this feature will be removed in the future.\n",
            "Recommend fixes are to train a new model using the latest 'ultralytics' package or to run a command with an official Ultralytics model, i.e. 'yolo predict model=yolov8n.pt'\n",
            "\u001b[31m\u001b[1mrequirements:\u001b[0m Ultralytics requirement ['dill'] not found, attempting AutoUpdate...\n"
          ]
        },
        {
          "output_type": "stream",
          "name": "stderr",
          "text": [
            "\n"
          ]
        },
        {
          "output_type": "stream",
          "name": "stdout",
          "text": [
            "Collecting dill\n",
            "  Downloading dill-0.3.9-py3-none-any.whl.metadata (10 kB)\n",
            "Downloading dill-0.3.9-py3-none-any.whl (119 kB)\n",
            "   ━━━━━━━━━━━━━━━━━━━━━━━━━━━━━━━━━━━━━━━━ 119.4/119.4 kB 12.7 MB/s eta 0:00:00\n",
            "Installing collected packages: dill\n",
            "Successfully installed dill-0.3.9\n",
            "\n",
            "\u001b[31m\u001b[1mrequirements:\u001b[0m AutoUpdate success ✅ 3.5s, installed 1 package: ['dill']\n",
            "\u001b[31m\u001b[1mrequirements:\u001b[0m ⚠️ \u001b[1mRestart runtime or rerun command for updates to take effect\u001b[0m\n",
            "\n",
            "\u001b[34m\u001b[1mAMP: \u001b[0mchecks passed ✅\n"
          ]
        },
        {
          "output_type": "stream",
          "name": "stderr",
          "text": [
            "\u001b[34m\u001b[1mtrain: \u001b[0mScanning /content/PlantDoc-2/train/labels... 2330 images, 10 backgrounds, 0 corrupt: 100%|██████████| 2330/2330 [00:01<00:00, 1860.70it/s]"
          ]
        },
        {
          "output_type": "stream",
          "name": "stdout",
          "text": [
            "\u001b[34m\u001b[1mtrain: \u001b[0mNew cache created: /content/PlantDoc-2/train/labels.cache\n"
          ]
        },
        {
          "output_type": "stream",
          "name": "stderr",
          "text": [
            "\n"
          ]
        },
        {
          "output_type": "stream",
          "name": "stdout",
          "text": [
            "\u001b[34m\u001b[1malbumentations: \u001b[0mBlur(p=0.01, blur_limit=(3, 7)), MedianBlur(p=0.01, blur_limit=(3, 7)), ToGray(p=0.01, num_output_channels=3, method='weighted_average'), CLAHE(p=0.01, clip_limit=(1, 4.0), tile_grid_size=(8, 8))\n"
          ]
        },
        {
          "output_type": "stream",
          "name": "stderr",
          "text": [
            "A new version of Albumentations is available: 1.4.17 (you have 1.4.15). Upgrade using: pip install -U albumentations. To disable automatic update checks, set the environment variable NO_ALBUMENTATIONS_UPDATE to 1.\n",
            "\u001b[34m\u001b[1mval: \u001b[0mScanning /content/PlantDoc-2/test/labels... 239 images, 1 backgrounds, 0 corrupt: 100%|██████████| 239/239 [00:00<00:00, 975.42it/s] "
          ]
        },
        {
          "output_type": "stream",
          "name": "stdout",
          "text": [
            "\u001b[34m\u001b[1mval: \u001b[0mNew cache created: /content/PlantDoc-2/test/labels.cache\n"
          ]
        },
        {
          "output_type": "stream",
          "name": "stderr",
          "text": [
            "\n"
          ]
        },
        {
          "output_type": "stream",
          "name": "stdout",
          "text": [
            "Plotting labels to runs/detect/train6/labels.jpg... \n",
            "\u001b[34m\u001b[1moptimizer:\u001b[0m 'optimizer=auto' found, ignoring 'lr0=0.01' and 'momentum=0.937' and determining best 'optimizer', 'lr0' and 'momentum' automatically... \n",
            "\u001b[34m\u001b[1moptimizer:\u001b[0m AdamW(lr=0.000294, momentum=0.9) with parameter groups 63 weight(decay=0.0), 70 weight(decay=0.0005), 69 bias(decay=0.0)\n",
            "\u001b[34m\u001b[1mTensorBoard: \u001b[0mmodel graph visualization added ✅\n",
            "Image sizes 640 train, 640 val\n",
            "Using 2 dataloader workers\n",
            "Logging results to \u001b[1mruns/detect/train6\u001b[0m\n",
            "Starting training for 10 epochs...\n",
            "Closing dataloader mosaic\n",
            "\u001b[34m\u001b[1malbumentations: \u001b[0mBlur(p=0.01, blur_limit=(3, 7)), MedianBlur(p=0.01, blur_limit=(3, 7)), ToGray(p=0.01, num_output_channels=3, method='weighted_average'), CLAHE(p=0.01, clip_limit=(1, 4.0), tile_grid_size=(8, 8))\n",
            "\n",
            "      Epoch    GPU_mem   box_loss   cls_loss   dfl_loss  Instances       Size\n"
          ]
        },
        {
          "output_type": "stream",
          "name": "stderr",
          "text": [
            "       1/10      1.33G      1.596      4.678      1.838          8        640: 100%|██████████| 292/292 [00:55<00:00,  5.27it/s]\n",
            "                 Class     Images  Instances      Box(P          R      mAP50  mAP50-95): 100%|██████████| 15/15 [00:03<00:00,  4.80it/s]\n"
          ]
        },
        {
          "output_type": "stream",
          "name": "stdout",
          "text": [
            "                   all        239        454      0.627     0.0855      0.061      0.047\n",
            "\n",
            "      Epoch    GPU_mem   box_loss   cls_loss   dfl_loss  Instances       Size\n"
          ]
        },
        {
          "output_type": "stream",
          "name": "stderr",
          "text": [
            "       2/10       1.3G      1.457      4.329      1.703          4        640: 100%|██████████| 292/292 [00:55<00:00,  5.30it/s]\n",
            "                 Class     Images  Instances      Box(P          R      mAP50  mAP50-95): 100%|██████████| 15/15 [00:02<00:00,  5.22it/s]"
          ]
        },
        {
          "output_type": "stream",
          "name": "stdout",
          "text": [
            "                   all        239        454      0.387      0.142        0.1     0.0771\n"
          ]
        },
        {
          "output_type": "stream",
          "name": "stderr",
          "text": [
            "\n"
          ]
        },
        {
          "output_type": "stream",
          "name": "stdout",
          "text": [
            "\n",
            "      Epoch    GPU_mem   box_loss   cls_loss   dfl_loss  Instances       Size\n"
          ]
        },
        {
          "output_type": "stream",
          "name": "stderr",
          "text": [
            "       3/10      1.28G      1.478      4.068      1.696          6        640: 100%|██████████| 292/292 [00:51<00:00,  5.70it/s]\n",
            "                 Class     Images  Instances      Box(P          R      mAP50  mAP50-95): 100%|██████████| 15/15 [00:01<00:00,  8.15it/s]"
          ]
        },
        {
          "output_type": "stream",
          "name": "stdout",
          "text": [
            "                   all        239        454      0.406      0.177      0.137      0.102\n"
          ]
        },
        {
          "output_type": "stream",
          "name": "stderr",
          "text": [
            "\n"
          ]
        },
        {
          "output_type": "stream",
          "name": "stdout",
          "text": [
            "\n",
            "      Epoch    GPU_mem   box_loss   cls_loss   dfl_loss  Instances       Size\n"
          ]
        },
        {
          "output_type": "stream",
          "name": "stderr",
          "text": [
            "       4/10      1.34G      1.456      3.879       1.68          2        640: 100%|██████████| 292/292 [00:51<00:00,  5.65it/s]\n",
            "                 Class     Images  Instances      Box(P          R      mAP50  mAP50-95): 100%|██████████| 15/15 [00:01<00:00,  7.94it/s]"
          ]
        },
        {
          "output_type": "stream",
          "name": "stdout",
          "text": [
            "                   all        239        454      0.262      0.232      0.153      0.119\n"
          ]
        },
        {
          "output_type": "stream",
          "name": "stderr",
          "text": [
            "\n"
          ]
        },
        {
          "output_type": "stream",
          "name": "stdout",
          "text": [
            "\n",
            "      Epoch    GPU_mem   box_loss   cls_loss   dfl_loss  Instances       Size\n"
          ]
        },
        {
          "output_type": "stream",
          "name": "stderr",
          "text": [
            "       5/10      1.32G      1.447      3.737      1.661          8        640: 100%|██████████| 292/292 [00:51<00:00,  5.65it/s]\n",
            "                 Class     Images  Instances      Box(P          R      mAP50  mAP50-95): 100%|██████████| 15/15 [00:01<00:00,  8.25it/s]"
          ]
        },
        {
          "output_type": "stream",
          "name": "stdout",
          "text": [
            "                   all        239        454      0.138      0.267      0.166      0.129\n"
          ]
        },
        {
          "output_type": "stream",
          "name": "stderr",
          "text": [
            "\n"
          ]
        },
        {
          "output_type": "stream",
          "name": "stdout",
          "text": [
            "\n",
            "      Epoch    GPU_mem   box_loss   cls_loss   dfl_loss  Instances       Size\n"
          ]
        },
        {
          "output_type": "stream",
          "name": "stderr",
          "text": [
            "       6/10      1.32G       1.41      3.631      1.643          4        640: 100%|██████████| 292/292 [00:50<00:00,  5.77it/s]\n",
            "                 Class     Images  Instances      Box(P          R      mAP50  mAP50-95): 100%|██████████| 15/15 [00:01<00:00,  8.05it/s]"
          ]
        },
        {
          "output_type": "stream",
          "name": "stdout",
          "text": [
            "                   all        239        454      0.179      0.238      0.191      0.152\n"
          ]
        },
        {
          "output_type": "stream",
          "name": "stderr",
          "text": [
            "\n"
          ]
        },
        {
          "output_type": "stream",
          "name": "stdout",
          "text": [
            "\n",
            "      Epoch    GPU_mem   box_loss   cls_loss   dfl_loss  Instances       Size\n"
          ]
        },
        {
          "output_type": "stream",
          "name": "stderr",
          "text": [
            "       7/10      1.31G      1.399      3.527      1.617          8        640: 100%|██████████| 292/292 [00:52<00:00,  5.61it/s]\n",
            "                 Class     Images  Instances      Box(P          R      mAP50  mAP50-95): 100%|██████████| 15/15 [00:01<00:00,  8.18it/s]"
          ]
        },
        {
          "output_type": "stream",
          "name": "stdout",
          "text": [
            "                   all        239        454      0.179      0.325      0.225      0.176\n"
          ]
        },
        {
          "output_type": "stream",
          "name": "stderr",
          "text": [
            "\n"
          ]
        },
        {
          "output_type": "stream",
          "name": "stdout",
          "text": [
            "\n",
            "      Epoch    GPU_mem   box_loss   cls_loss   dfl_loss  Instances       Size\n"
          ]
        },
        {
          "output_type": "stream",
          "name": "stderr",
          "text": [
            "       8/10      1.34G      1.368      3.468      1.592          3        640: 100%|██████████| 292/292 [00:51<00:00,  5.67it/s]\n",
            "                 Class     Images  Instances      Box(P          R      mAP50  mAP50-95): 100%|██████████| 15/15 [00:02<00:00,  6.53it/s]\n"
          ]
        },
        {
          "output_type": "stream",
          "name": "stdout",
          "text": [
            "                   all        239        454      0.136      0.335      0.238       0.19\n",
            "\n",
            "      Epoch    GPU_mem   box_loss   cls_loss   dfl_loss  Instances       Size\n"
          ]
        },
        {
          "output_type": "stream",
          "name": "stderr",
          "text": [
            "       9/10      1.28G      1.373       3.41        1.6          9        640: 100%|██████████| 292/292 [00:51<00:00,  5.67it/s]\n",
            "                 Class     Images  Instances      Box(P          R      mAP50  mAP50-95): 100%|██████████| 15/15 [00:03<00:00,  4.90it/s]"
          ]
        },
        {
          "output_type": "stream",
          "name": "stdout",
          "text": [
            "                   all        239        454      0.311      0.308      0.252        0.2\n"
          ]
        },
        {
          "output_type": "stream",
          "name": "stderr",
          "text": [
            "\n"
          ]
        },
        {
          "output_type": "stream",
          "name": "stdout",
          "text": [
            "\n",
            "      Epoch    GPU_mem   box_loss   cls_loss   dfl_loss  Instances       Size\n"
          ]
        },
        {
          "output_type": "stream",
          "name": "stderr",
          "text": [
            "      10/10      1.33G      1.345      3.348      1.559          9        640: 100%|██████████| 292/292 [00:51<00:00,  5.71it/s]\n",
            "                 Class     Images  Instances      Box(P          R      mAP50  mAP50-95): 100%|██████████| 15/15 [00:01<00:00,  8.02it/s]"
          ]
        },
        {
          "output_type": "stream",
          "name": "stdout",
          "text": [
            "                   all        239        454      0.503       0.28      0.269      0.217\n"
          ]
        },
        {
          "output_type": "stream",
          "name": "stderr",
          "text": [
            "\n"
          ]
        },
        {
          "output_type": "stream",
          "name": "stdout",
          "text": [
            "\n",
            "10 epochs completed in 0.155 hours.\n",
            "Optimizer stripped from runs/detect/train6/weights/last.pt, 5.6MB\n",
            "Optimizer stripped from runs/detect/train6/weights/best.pt, 5.6MB\n",
            "\n",
            "Validating runs/detect/train6/weights/best.pt...\n",
            "Ultralytics 8.3.2 🚀 Python-3.10.12 torch-2.4.1+cu121 CUDA:0 (Tesla T4, 15102MiB)\n",
            "YOLOv8n summary (fused): 186 layers, 2,690,218 parameters, 0 gradients, 6.9 GFLOPs\n"
          ]
        },
        {
          "output_type": "stream",
          "name": "stderr",
          "text": [
            "                 Class     Images  Instances      Box(P          R      mAP50  mAP50-95): 100%|██████████| 15/15 [00:03<00:00,  4.50it/s]\n"
          ]
        },
        {
          "output_type": "stream",
          "name": "stdout",
          "text": [
            "                   all        239        454      0.503      0.281      0.269      0.217\n",
            "       Apple Scab Leaf         10         13      0.145     0.0769      0.171      0.134\n",
            "            Apple leaf          9         10      0.131        0.6      0.285      0.197\n",
            "       Apple rust leaf         10         11          1          0     0.0911      0.059\n",
            " Bell_pepper leaf spot          8         11          1          0     0.0094    0.00738\n",
            "      Bell_pepper leaf          9         15          1          0     0.0586      0.046\n",
            "        Blueberry leaf         11         22      0.295      0.136      0.173      0.136\n",
            "           Cherry leaf         10         19      0.219     0.0526      0.149      0.108\n",
            "   Corn Gray leaf spot          4          4        0.2       0.75      0.528      0.412\n",
            "      Corn leaf blight         12         12      0.484      0.917      0.631      0.516\n",
            "        Corn rust leaf         10         10      0.639        0.9      0.867      0.793\n",
            "            Peach leaf          9         10      0.176        0.5      0.244        0.2\n",
            "Potato leaf late blight          8         17      0.439     0.0588      0.122      0.105\n",
            "           Potato leaf          8         10      0.172        0.1      0.079     0.0566\n",
            "        Raspberry leaf          7         17      0.484      0.353       0.36      0.314\n",
            "         Soyabean leaf          8         20      0.566        0.7      0.646      0.577\n",
            "Squash Powdery mildew leaf          8          8      0.509      0.625       0.58      0.487\n",
            "       Strawberry leaf          8         30      0.547      0.933      0.793      0.662\n",
            "Tomato Early blight leaf          9         19          1          0     0.0472     0.0233\n",
            "Tomato Septoria leaf spot         11         24      0.186     0.0833      0.122      0.076\n",
            "Tomato leaf bacterial spot          8         27          1          0     0.0699     0.0351\n",
            "Tomato leaf late blight          9         14          1          0     0.0617     0.0416\n",
            "Tomato leaf mosaic virus         10         14          0          0     0.0886     0.0514\n",
            "Tomato leaf yellow virus         10         36          1          0     0.0454     0.0263\n",
            "           Tomato leaf          6         42      0.251     0.0478      0.138     0.0639\n",
            "      Tomato mold leaf          6         16      0.228     0.0625     0.0534      0.032\n",
            "  grape leaf black rot         12         15      0.246        0.2      0.198      0.157\n",
            "            grape leaf          8          8      0.662      0.491       0.66      0.549\n",
            "Speed: 0.3ms preprocess, 2.8ms inference, 0.0ms loss, 4.0ms postprocess per image\n",
            "Results saved to \u001b[1mruns/detect/train6\u001b[0m\n"
          ]
        }
      ]
    },
    {
      "cell_type": "code",
      "source": [
        "from ultralytics import YOLO\n",
        "\n",
        "# Load a model\n",
        "model = YOLO('yolov8n.pt')  # load an official model\n",
        "model = YOLO('/content/runs/detect/train6/weights/best.pt')  # load a custom model\n",
        "\n",
        "# Predict with the model\n",
        "results = model('/content/PlantDoc-2/test/images')  # predict on an image"
      ],
      "metadata": {
        "id": "AUTghTaI3pMv",
        "colab": {
          "base_uri": "https://localhost:8080/"
        },
        "outputId": "322b47ec-d3e1-4b85-b2d9-7509f2262afa"
      },
      "execution_count": null,
      "outputs": [
        {
          "output_type": "stream",
          "name": "stdout",
          "text": [
            "\n",
            "image 1/239 /content/PlantDoc-2/test/images/%2320+Bacterial+Spot+and+Speck_jpg.rf.4a5638f9382d0f63cf4707e8906ed428.jpg: 640x640 (no detections), 19.4ms\n",
            "image 2/239 /content/PlantDoc-2/test/images/0000_jpg.rf.0e0274a9c4e47a8cd970fcc8ffa36501.jpg: 640x640 (no detections), 11.6ms\n",
            "image 3/239 /content/PlantDoc-2/test/images/000_jpg.rf.d5d53f8d1e0634485e6333312182a034.jpg: 640x640 (no detections), 13.3ms\n",
            "image 4/239 /content/PlantDoc-2/test/images/00_jpg.rf.1e66c69b864232a2834b740f7837e233.jpg: 640x640 1 Corn leaf blight, 28.9ms\n",
            "image 5/239 /content/PlantDoc-2/test/images/00pe_jpg.rf.b0bdc0b8b91cef9f1be82f13c4b3f010.jpg: 640x640 (no detections), 27.4ms\n",
            "image 6/239 /content/PlantDoc-2/test/images/01_jpg.rf.c8804ba54482bfebcbce9e176c240f12.jpg: 640x640 (no detections), 26.1ms\n",
            "image 7/239 /content/PlantDoc-2/test/images/02_-Rust-2017-207u24s_jpg.rf.52febe551312f48916b656273fa38e0c.jpg: 640x640 (no detections), 13.4ms\n",
            "image 8/239 /content/PlantDoc-2/test/images/02c_jpg.rf.a40386a73c79a1b2d18ab1b2be23d915.jpg: 640x640 1 Corn leaf blight, 11.1ms\n",
            "image 9/239 /content/PlantDoc-2/test/images/039b47d574bc4bb8a14259a1cd96a741_jpg.rf.fae3c5b89dce57982c92883081c45dac.jpg: 640x640 (no detections), 21.3ms\n",
            "image 10/239 /content/PlantDoc-2/test/images/03gb_jpg.rf.4e607d9417572325c70030f53ed7927f.jpg: 640x640 1 Tomato Septoria leaf spot, 1 grape leaf, 45.2ms\n",
            "image 11/239 /content/PlantDoc-2/test/images/052609%20Hartman%20Crabapple%20scab%20single%20leaf_JPG_jpg.rf.7389cdb7a966fa3ceb7332ebda2f13f5.jpg: 640x640 (no detections), 13.0ms\n",
            "image 12/239 /content/PlantDoc-2/test/images/0605_Rust-induced_leafspot_jpg.rf.6e1fda4e522561ee146f887500ff25ed.jpg: 640x640 (no detections), 27.6ms\n",
            "image 13/239 /content/PlantDoc-2/test/images/0796_20graylssymt_jpg.rf.25a34d58787767bd6d67f4c361397bd8.jpg: 640x640 1 Corn leaf blight, 18.6ms\n",
            "image 14/239 /content/PlantDoc-2/test/images/0796_39maizerust_jpg.rf.2b4a7f9aad50e25fbac2c0497d3528c4.jpg: 640x640 (no detections), 35.4ms\n",
            "image 15/239 /content/PlantDoc-2/test/images/0796_40comrust_jpg.rf.07e67761b78600e0fb373c39e6e1b1e8.jpg: 640x640 1 Corn rust leaf, 11.0ms\n",
            "image 16/239 /content/PlantDoc-2/test/images/0796_47southrust_jpg.rf.1b1c6a6937915f122210070de2c97be4.jpg: 640x640 1 Corn rust leaf, 14.4ms\n",
            "image 17/239 /content/PlantDoc-2/test/images/0796_52srusttelia_jpg.rf.fdc1879a98deab5642a709f9146cbb76.jpg: 640x640 1 Corn rust leaf, 28.0ms\n",
            "image 18/239 /content/PlantDoc-2/test/images/07_17_18-Common_Tomato_Diseases_Canker-258x300_jpg.rf.a1a9679f65cb7dfd1f1878101ab39ce3.jpg: 640x640 1 Tomato mold leaf, 12.9ms\n",
            "image 19/239 /content/PlantDoc-2/test/images/07c_jpg.rf.4cceaece93cbfb51d9a71546832788af.jpg: 640x640 1 Corn leaf blight, 12.0ms\n",
            "image 20/239 /content/PlantDoc-2/test/images/07feb_ma_sbr3_JPG_jpg.rf.fa37cd996f07f1f625dda6d3f727bb3e.jpg: 640x640 1 Apple leaf, 11.0ms\n",
            "image 21/239 /content/PlantDoc-2/test/images/0_jpg.rf.720ae6b0751030a3497288d28e18e175.jpg: 640x640 1 Corn leaf blight, 11.1ms\n",
            "image 22/239 /content/PlantDoc-2/test/images/0c_jpg.rf.665999a5523a5d55f1191efa6176808d.jpg: 640x640 1 Corn leaf blight, 11.3ms\n",
            "image 23/239 /content/PlantDoc-2/test/images/100983448_jpg.rf.3c61f19f8dec882d47fbff55df82fd63.jpg: 640x640 (no detections), 10.8ms\n",
            "image 24/239 /content/PlantDoc-2/test/images/10148582-green-leaf-of-pepper_jpg.rf.4e673560f835d0813a9dea9880c10b41.jpg: 640x640 (no detections), 10.6ms\n",
            "image 25/239 /content/PlantDoc-2/test/images/11-40580_5_jpg.rf.495ac7378a53a082e5b2ec5c23879df2.jpg: 640x640 4 Tomato leafs, 24.7ms\n",
            "image 26/239 /content/PlantDoc-2/test/images/110822-206-Tomato-blight_jpg.rf.a0a46e211bf05425e3ae7c19e21424ee.jpg: 640x640 (no detections), 21.4ms\n",
            "image 27/239 /content/PlantDoc-2/test/images/12-19striprustJIM_jpg.rf.f442cacf26945a5d54391e4d4605029a.jpg: 640x640 1 Corn Gray leaf spot, 1 Corn leaf blight, 12.4ms\n",
            "image 28/239 /content/PlantDoc-2/test/images/1234080-Early-Blight_jpg.rf.c24cf5404b7386f362bba4bbdf593bda.jpg: 640x640 (no detections), 13.9ms\n",
            "image 29/239 /content/PlantDoc-2/test/images/1321189_jpg.rf.d908924a2ad920e893a6fdb6582d3ccf.jpg: 640x640 (no detections), 18.0ms\n",
            "image 30/239 /content/PlantDoc-2/test/images/1355_50commonrust_jpg.rf.3de14bad67f8f968ea45a215874512ad.jpg: 640x640 1 Corn rust leaf, 12.7ms\n",
            "image 31/239 /content/PlantDoc-2/test/images/1421_0_jpeg?itok=FMtmgePj_jpg.rf.21ddf03760a370028726809e80b0e43a.jpg: 640x640 (no detections), 11.2ms\n",
            "image 32/239 /content/PlantDoc-2/test/images/160314_web_jpg.rf.d0045eb853b551e682c3818c68705e3c.jpg: 640x640 1 Corn leaf blight, 10.7ms\n",
            "image 33/239 /content/PlantDoc-2/test/images/1684_jpg.rf.5f3e236bc42d12bd35c428558b6873c2.jpg: 640x640 1 Strawberry leaf, 12.4ms\n",
            "image 34/239 /content/PlantDoc-2/test/images/17fc47_jpg.rf.29866cdd88e8142b4fa3e661ad93e32e.jpg: 640x640 (no detections), 10.9ms\n",
            "image 35/239 /content/PlantDoc-2/test/images/185161-004-EAF28842_jpg.rf.458e6bbd1c420e754eaf3f41c5460f64.jpg: 640x640 1 Corn rust leaf, 1 Tomato Septoria leaf spot, 11.7ms\n",
            "image 36/239 /content/PlantDoc-2/test/images/18c_jpg.rf.c26bc4f6e9c36fee2c507bf8747fdbbc.jpg: 640x640 (no detections), 10.7ms\n",
            "image 37/239 /content/PlantDoc-2/test/images/1b321015-6e33-4f18-aade-888f4383fe92_jpeg_jpg.rf.db92870c7c7db7914bf6ac4138c54045.jpg: 640x640 1 Tomato Septoria leaf spot, 10.7ms\n",
            "image 38/239 /content/PlantDoc-2/test/images/20090710-lateblight_jpg.rf.143fc9a05597a19d510d0a8ac5ffeb91.jpg: 640x640 (no detections), 30.4ms\n",
            "image 39/239 /content/PlantDoc-2/test/images/2011-011_jpg.rf.454aa352aa0e475e3b015c167deeddd8.jpg: 640x640 1 Squash Powdery mildew leaf, 10.7ms\n",
            "image 40/239 /content/PlantDoc-2/test/images/2013-08-20-06_jpg.rf.0ece23c30630700091f63f6d105acb93.jpg: 640x640 (no detections), 12.1ms\n",
            "image 41/239 /content/PlantDoc-2/test/images/20130519cedarapplerust_jpg.rf.e30bc786cee0017ec66bdc43ee637eb0.jpg: 640x640 1 Corn rust leaf, 10.5ms\n",
            "image 42/239 /content/PlantDoc-2/test/images/20130610_110514_jpg.rf.b039d30500345e04ecef9234c99c3044.jpg: 640x640 2 Apple leafs, 10.4ms\n",
            "image 43/239 /content/PlantDoc-2/test/images/20130802_111632_jpg.rf.3da27c4216cdb0e8875efc199a0c1a8c.jpg: 640x640 (no detections), 11.3ms\n",
            "image 44/239 /content/PlantDoc-2/test/images/2013Corn_GrayLeafSpot_0815_0003_JPG_jpg.rf.6e898b3707197052bfde057b8266e951.jpg: 640x640 1 Corn leaf blight, 10.2ms\n",
            "image 45/239 /content/PlantDoc-2/test/images/2015070295153021_jpg.rf.2e91b18fd64a62773d9d190f5d2cf469.jpg: 640x640 1 Corn leaf blight, 10.6ms\n",
            "image 46/239 /content/PlantDoc-2/test/images/20180511_090912-14gtw8a-e1526047952754_jpg.rf.18669031a72561f4d7a50fe936bf47c0.jpg: 640x640 1 Peach leaf, 10.5ms\n",
            "image 47/239 /content/PlantDoc-2/test/images/20180511_091133-24l1vhg-e1526047988236_jpg.rf.f16cd93b417d98367fc81d4841331050.jpg: 640x640 (no detections), 10.5ms\n",
            "image 48/239 /content/PlantDoc-2/test/images/20180511_091252-1gy5xf5-e1526048000596_jpg.rf.f2ee9cc5306417e24be6644255633587.jpg: 640x640 1 Apple leaf, 1 Peach leaf, 9.9ms\n",
            "image 49/239 /content/PlantDoc-2/test/images/2256-body-1501555581-1_jpg.rf.8853ab1c9d9dbfdd95fa802a0bc394a4.jpg: 640x640 1 Corn Gray leaf spot, 1 Corn leaf blight, 11.3ms\n",
            "image 50/239 /content/PlantDoc-2/test/images/2540_600_jpg.rf.188eab9a4be96790d6428d325770b0b0.jpg: 640x640 1 Apple leaf, 1 Potato leaf, 13.8ms\n",
            "image 51/239 /content/PlantDoc-2/test/images/28-500x375_jpg.rf.e626ee397e7319ba1bd9c5183e82460e.jpg: 640x640 (no detections), 11.5ms\n",
            "image 52/239 /content/PlantDoc-2/test/images/2STEM_jpg.rf.a0cbcd3cbec48321684cdc3d77b5d391.jpg: 640x640 1 Tomato Septoria leaf spot, 11.6ms\n",
            "image 53/239 /content/PlantDoc-2/test/images/2septoria-tomato_jpg.rf.6d241d0e2e497563a6c0d3eeb9cabd7d.jpg: 640x640 (no detections), 11.1ms\n",
            "image 54/239 /content/PlantDoc-2/test/images/3023_jpg.rf.10308716aa3a27f47283696834ddc861.jpg: 640x640 (no detections), 12.8ms\n",
            "image 55/239 /content/PlantDoc-2/test/images/35589125035_662dd5b258_b_jpg.rf.caf322e40b4b65a17a0bf569489ddd17.jpg: 640x640 (no detections), 11.1ms\n",
            "image 56/239 /content/PlantDoc-2/test/images/393_jpg.rf.38b7ae02ce0eeb8ab4ff477c34409776.jpg: 640x640 1 Corn leaf blight, 1 Corn rust leaf, 14.8ms\n",
            "image 57/239 /content/PlantDoc-2/test/images/4-apple-rust2_19011_matt-bertone_jpg.rf.dbae32addfbb857c586ecdc5680b14a1.jpg: 640x640 (no detections), 13.0ms\n",
            "image 58/239 /content/PlantDoc-2/test/images/4120978-single-green-leaf-of-apple-tree_jpg.rf.e68be411d4d50d37fe7f715b2a359baf.jpg: 640x640 1 Apple leaf, 1 Peach leaf, 13.7ms\n",
            "image 59/239 /content/PlantDoc-2/test/images/4825902504_5fa80b65b8_z_jpg.rf.dd85b673816095d4babe8bd371d17729.jpg: 640x640 1 Apple leaf, 10.7ms\n",
            "image 60/239 /content/PlantDoc-2/test/images/49%20Leafmold%20Bottom_jpg.rf.85ba3ad9da62fa5770c2af6a18bcb3aa.jpg: 640x640 (no detections), 11.2ms\n",
            "image 61/239 /content/PlantDoc-2/test/images/5-29black-rot-chardRR_jpg.rf.8d6e4bfa42d7f81ed1c5f0f594945b3d.jpg: 640x640 (no detections), 11.2ms\n",
            "image 62/239 /content/PlantDoc-2/test/images/50%20Leafmold%20Top_jpg.rf.73ca954abe1b1a7d201a37bbd7eb1287.jpg: 640x640 (no detections), 10.3ms\n",
            "image 63/239 /content/PlantDoc-2/test/images/5496239405_d95bdb97d1_z_jpg.rf.1fc08a33143d8607499096469e92cbc5.jpg: 640x640 1 Corn leaf blight, 13.8ms\n",
            "image 64/239 /content/PlantDoc-2/test/images/55830b60a7cf2_image_jpg.rf.24f254eeec0ddd3bdcf665ca3e084d1c.jpg: 640x640 1 Tomato Septoria leaf spot, 12.0ms\n",
            "image 65/239 /content/PlantDoc-2/test/images/5816740026_d42ef24413_Phytophthora-Infestans_jpg.rf.b4ff6f619cc2b135f2c8cc3e4f7465b3.jpg: 640x640 1 Strawberry leaf, 17.9ms\n",
            "image 66/239 /content/PlantDoc-2/test/images/6134794031202304_jpeg_jpg.rf.a7993bb7f34d859ceafbe10c667f9699.jpg: 640x640 (no detections), 11.8ms\n",
            "image 67/239 /content/PlantDoc-2/test/images/636227737977191231-septoria-leaf-spot-VT_jpg.rf.e65095c6a5ceb9bfd02420410fa7f4c0.jpg: 640x640 (no detections), 11.1ms\n",
            "image 68/239 /content/PlantDoc-2/test/images/636368370164094909-late-blight-15-_jpg.rf.cd88c13b2086873d4c760d86a57d0a8d.jpg: 640x640 (no detections), 15.2ms\n",
            "image 69/239 /content/PlantDoc-2/test/images/6447731_orig_jpg.rf.dc0ba58a539726aa3eee7b796a49a3c0.jpg: 640x640 1 Squash Powdery mildew leaf, 13.5ms\n",
            "image 70/239 /content/PlantDoc-2/test/images/7-17-Photo3_Septoria-MARY_jpg.rf.95f47f0169eee73f2b992a9407c759e5.jpg: 640x640 (no detections), 12.5ms\n",
            "image 71/239 /content/PlantDoc-2/test/images/70_jpg.rf.34bb612fa73769c4bef20cae39e553a3.jpg: 640x640 (no detections), 12.9ms\n",
            "image 72/239 /content/PlantDoc-2/test/images/7190f27ead55c0f6e3ff8b982972810a5446a9713a49d_1260x1260_jpg.rf.6b09ad2218df903f36786bae6bc9942c.jpg: 640x640 1 Peach leaf, 1 Tomato mold leaf, 35.6ms\n",
            "image 73/239 /content/PlantDoc-2/test/images/730-grape-leaf-2560x1600-nature-wallpaper_jpg.rf.08c563c2ff421eda9f74b9d1531402ba.jpg: 640x640 (no detections), 18.2ms\n",
            "image 74/239 /content/PlantDoc-2/test/images/80104747_jpg.rf.d580e08378f398e116aeb3066f20c4af.jpg: 640x640 1 Corn leaf blight, 1 Corn rust leaf, 27.2ms\n",
            "image 75/239 /content/PlantDoc-2/test/images/816_jpg.rf.59928579d8eeb04dea52171d6a3f76de.jpg: 640x640 1 Apple Scab Leaf, 11.9ms\n",
            "image 76/239 /content/PlantDoc-2/test/images/8226402877_9abf151b5b_b_jpg.rf.5e5cca6f76b222a7119eb24ccda03bc5.jpg: 640x640 1 Raspberry leaf, 11.8ms\n",
            "image 77/239 /content/PlantDoc-2/test/images/90e2c0_jpg.rf.8c7c81bd879bfda8d3f91186318ec298.jpg: 640x640 (no detections), 11.8ms\n",
            "image 78/239 /content/PlantDoc-2/test/images/9343310-small_jpg.rf.aeab9754c642a5b8f11c3ad55484a8a7.jpg: 640x640 (no detections), 11.1ms\n",
            "image 79/239 /content/PlantDoc-2/test/images/9511_img_jpg.rf.9a07d2844ebcb1b8f3719a11608a961b.jpg: 640x640 (no detections), 17.9ms\n",
            "image 80/239 /content/PlantDoc-2/test/images/99e886623c2080c22f6519b0e708c531_jpg.rf.011b5efa90915b1158cc089c8aad4168.jpg: 640x640 (no detections), 17.2ms\n",
            "image 81/239 /content/PlantDoc-2/test/images/Apple-Leaf-Wallpaper-17_jpg.rf.02b66598333655d0e2073c3408ebc0c9.jpg: 640x640 (no detections), 24.6ms\n",
            "image 82/239 /content/PlantDoc-2/test/images/B2750109-Late_blight_on_a_potato_plant-SPL_jpg.rf.0e6115f197d46937f471552125db554f.jpg: 640x640 1 Raspberry leaf, 12.6ms\n",
            "image 83/239 /content/PlantDoc-2/test/images/BIGSD_jpg.rf.73d70cccbc62d75554e0eb450cb487a8.jpg: 640x640 (no detections), 18.8ms\n",
            "image 84/239 /content/PlantDoc-2/test/images/Bacterial-spot-pepper2_jpg.rf.6c9f1d235d59114c6794d58368a58173.jpg: 640x640 (no detections), 9.7ms\n",
            "image 85/239 /content/PlantDoc-2/test/images/Bacterial_spots563_jpg.rf.219cf326079f2daafddcfe7a116bae9d.jpg: 640x640 (no detections), 10.9ms\n",
            "image 86/239 /content/PlantDoc-2/test/images/Black%20rot%20on%20foliage2_jpg.rf.571f2e11e01997bc82666732c378a61d.jpg: 640x640 1 Strawberry leaf, 27.0ms\n",
            "image 87/239 /content/PlantDoc-2/test/images/Black%20rot%20on%20foliage_jpg.rf.3bf5509cffbea6c34c1cbd71d919affe.jpg: 640x640 (no detections), 16.6ms\n",
            "image 88/239 /content/PlantDoc-2/test/images/CMVpepperLeafShock-copy-50QUALITY-1ge8umw_jpg.rf.5587c52fadc543c280ea40346b14c50b.jpg: 640x640 1 Soyabean leaf, 10.9ms\n",
            "image 89/239 /content/PlantDoc-2/test/images/Common%20Diseases%20Figure%201_JPG_jpg.rf.830fcd0b14676b58fffdfe8703a3beb1.jpg: 640x640 1 Corn leaf blight, 10.8ms\n",
            "image 90/239 /content/PlantDoc-2/test/images/Corn-SCLB-2017-1_jpg.rf.54c20f916377104120339dea1b4feb13.jpg: 640x640 1 Corn leaf blight, 15.6ms\n",
            "image 91/239 /content/PlantDoc-2/test/images/D%29AlfMov_jpg.rf.a3a655485b9b82cc1c934a390ea921ee.jpg: 640x640 (no detections), 9.0ms\n",
            "image 92/239 /content/PlantDoc-2/test/images/DSCN1015_JPG_jpg.rf.56efd9731b1543b5978a7d4ced268298.jpg: 640x640 1 Strawberry leaf, 9.6ms\n",
            "image 93/239 /content/PlantDoc-2/test/images/DSCN7317_JPG_jpg.rf.4d52808e415f279b2f1e2b7271a9e37f.jpg: 640x640 (no detections), 7.2ms\n",
            "image 94/239 /content/PlantDoc-2/test/images/E%29Tomato-late-blight-foliar_jpg.rf.2f9c02163d035af63e7e636aa9825603.jpg: 640x640 (no detections), 7.2ms\n",
            "image 95/239 /content/PlantDoc-2/test/images/GREEN%20BELL%20PLANT%20YELLOW%20LEAF_JPG_jpg.rf.12d9b46b660d6472fb4aaed70a781bc5.jpg: 640x640 (no detections), 7.2ms\n",
            "image 96/239 /content/PlantDoc-2/test/images/H5w92_jpg.rf.ab87dfbd977216c38d51b89dd683fd26.jpg: 640x640 (no detections), 7.2ms\n",
            "image 97/239 /content/PlantDoc-2/test/images/IMG_1246_jpg.rf.1b23e74f670b24e1bdffc217738b8f40.jpg: 640x640 (no detections), 7.2ms\n",
            "image 98/239 /content/PlantDoc-2/test/images/IMG_1629_JPG?1507122477_jpg.rf.fef67d5a7677d5ca8227029ff8d80a0f.jpg: 640x640 1 Apple leaf, 7.2ms\n",
            "image 99/239 /content/PlantDoc-2/test/images/IMG_42231_jpg.rf.a13fc6cac1d8e9e404bc2b33520d4831.jpg: 640x640 1 Corn leaf blight, 7.2ms\n",
            "image 100/239 /content/PlantDoc-2/test/images/IMG_5808_jpg.rf.fc074a1880cda6eaeef9981c04280647.jpg: 640x640 (no detections), 7.2ms\n",
            "image 101/239 /content/PlantDoc-2/test/images/LateBlight04_jpg.rf.0fdda151b26e776e4836d735e049975f.jpg: 640x640 (no detections), 7.2ms\n",
            "image 102/239 /content/PlantDoc-2/test/images/LateBlt09_06_jpg.rf.ffe9b2013108fbf8c71e8ffe392680e5.jpg: 640x640 (no detections), 8.3ms\n",
            "image 103/239 /content/PlantDoc-2/test/images/P1130286_jpg.rf.cfd5dbd719ece63151d3c572b47af27f.jpg: 640x640 1 Strawberry leaf, 6.5ms\n",
            "image 104/239 /content/PlantDoc-2/test/images/P1200665+Vaccinium+alaskaense+vs+ovalifolium+leaf+and++twig+cr_jpg.rf.2491421bf1bff7e6bd1e58892715e849.jpg: 640x640 1 Apple leaf, 1 Blueberry leaf, 2 Peach leafs, 2 Soyabean leafs, 6.8ms\n",
            "image 105/239 /content/PlantDoc-2/test/images/P1200701+Vaccinium+ovalifolium+Oval-leaf+Blueberry+leaf+margin+Heather+Meadows+cr_jpg.rf.8863a7f10f5952a28c67824431711f7b.jpg: 640x640 (no detections), 6.7ms\n",
            "image 106/239 /content/PlantDoc-2/test/images/Powdery-Mildew-on-squash_jpg.rf.4eb159e5223a9b74b89a5857735a670c.jpg: 640x640 1 Squash Powdery mildew leaf, 8.3ms\n",
            "image 107/239 /content/PlantDoc-2/test/images/RARZ4_jpg.rf.4987fa240e82128851d65dba819b13c7.jpg: 640x640 (no detections), 6.9ms\n",
            "image 108/239 /content/PlantDoc-2/test/images/Raspberry-leaf_jpg.rf.5c1cfc57badd9d14d0a1d1d7d591b921.jpg: 640x640 1 Strawberry leaf, 6.6ms\n",
            "image 109/239 /content/PlantDoc-2/test/images/RnGnC_jpg.rf.ac9f91a813bfa6e5f4881d3b15769847.jpg: 640x640 1 Apple leaf, 6.5ms\n",
            "image 110/239 /content/PlantDoc-2/test/images/Shoemaker_7068_JPG_jpg.rf.21201f0e6f5f22832f5cf6a66e49f1a1.jpg: 640x640 1 Squash Powdery mildew leaf, 6.5ms\n",
            "image 111/239 /content/PlantDoc-2/test/images/Soybean%20edamame%20leaf1_JPG_jpg.rf.31dd2961702d22c1ac235609ba27aa59.jpg: 640x640 3 Apple leafs, 2 Soyabean leafs, 6.9ms\n",
            "image 112/239 /content/PlantDoc-2/test/images/Tom_Bact3_jpg.rf.8696ff16f02832ee79ff22e807638b3c.jpg: 640x640 (no detections), 7.9ms\n",
            "image 113/239 /content/PlantDoc-2/test/images/Tom_Bact7_jpg.rf.26d7e2d87b4e4c8db73ab8e2a677f505.jpg: 640x640 (no detections), 7.0ms\n",
            "image 114/239 /content/PlantDoc-2/test/images/Tomato%2BBacterial%2BSpot%2Bon%2BLeaves_jpg.rf.813f6fd5cc2a276067e82f54ff08b0a3.jpg: 640x640 1 Tomato Septoria leaf spot, 6.8ms\n",
            "image 115/239 /content/PlantDoc-2/test/images/Tomato-Mosaic-1wdr2jx-300x225_jpg.rf.112f6b7b2446bc31778facb91619a3ca.jpg: 640x640 (no detections), 6.8ms\n",
            "image 116/239 /content/PlantDoc-2/test/images/Tomato59_JPG_jpg.rf.8a7ea2440ac84dee8597a01221789ec6.jpg: 640x640 (no detections), 7.0ms\n",
            "image 117/239 /content/PlantDoc-2/test/images/Tomato_leaf_jpg.rf.97e89114fbd4c71c132f073dc15f69f5.jpg: 640x640 (no detections), 8.5ms\n",
            "image 118/239 /content/PlantDoc-2/test/images/apple%20scab%20leaf_jpg.rf.51f04cf599dc3879819bc6841d409cac.jpg: 640x640 (no detections), 6.7ms\n",
            "image 119/239 /content/PlantDoc-2/test/images/apple%20scabnew_jpg.rf.8aeee722c1390eb6fbece969ef3703a1.jpg: 640x640 (no detections), 6.9ms\n",
            "image 120/239 /content/PlantDoc-2/test/images/apple-leaf-14319997_jpg.rf.4c88be68ece8aa6d52c59f8722b402a9.jpg: 640x640 1 Apple leaf, 6.8ms\n",
            "image 121/239 /content/PlantDoc-2/test/images/apple-leaf-9834637_jpg.rf.095862116431a80dc4700e27d056eff6.jpg: 640x640 1 Apple leaf, 12.9ms\n",
            "image 122/239 /content/PlantDoc-2/test/images/apple-leaf-closeup-37636177_jpg.rf.f7b3fd0a1c8592f6aec14d45c9aac5fb.jpg: 640x640 1 Apple leaf, 9.7ms\n",
            "image 123/239 /content/PlantDoc-2/test/images/apple-leaf-isolated-white-background-56631026_jpg.rf.a7aea4da5ed2668a28de7117e48ea324.jpg: 640x640 1 Apple leaf, 1 Peach leaf, 7.8ms\n",
            "image 124/239 /content/PlantDoc-2/test/images/apple-scab-5366820_jpg.rf.7d9c8173c76f04451efd5865ebb968f0.jpg: 640x640 (no detections), 9.8ms\n",
            "image 125/239 /content/PlantDoc-2/test/images/apples_apple-scab_01_zoom_jpg.rf.fec04e227adda675f3c72ab8af7bc022.jpg: 640x640 (no detections), 9.5ms\n",
            "image 126/239 /content/PlantDoc-2/test/images/apples_apple-scab_02_thm_jpg.rf.bb1be395e119021cfe9d24c75c6af89c.jpg: 640x640 (no detections), 9.7ms\n",
            "image 127/239 /content/PlantDoc-2/test/images/apples_apple-scab_10_zoom_jpg.rf.a65f7f04f82ac0b6fb7aa52f2ba47335.jpg: 640x640 (no detections), 9.4ms\n",
            "image 128/239 /content/PlantDoc-2/test/images/backus-056-potato-blight_jpg.rf.71338f5ceacda5c589a3aa263d8008aa.jpg: 640x640 (no detections), 10.7ms\n",
            "image 129/239 /content/PlantDoc-2/test/images/bact-spot-fig-1_jpg.rf.928010f0bac0d3e0e062b4fc65bbec89.jpg: 640x640 (no detections), 9.5ms\n",
            "image 130/239 /content/PlantDoc-2/test/images/bacterial_leaf_spot_pepper_l_jpg.rf.f0973586d4d1c2d529c39dd2ebbe6582.jpg: 640x640 (no detections), 9.6ms\n",
            "image 131/239 /content/PlantDoc-2/test/images/black_leaf_mold_in_zina_tina_jpg.rf.15c7b6b519a512da4139f30a593a572b.jpg: 640x640 (no detections), 9.7ms\n",
            "image 132/239 /content/PlantDoc-2/test/images/blueberry-leaves-normal-above-and-iron-deficient-below-bgahf8_jpg.rf.e5450bb60daf2e00ba95ae883ddbcdc9.jpg: 640x640 (no detections), 9.2ms\n",
            "image 133/239 /content/PlantDoc-2/test/images/blueberrysilverleaf16-1372b_jpg.rf.e0c4fcfeaa7c8c9484c9c258b7227a7a.jpg: 640x640 1 Apple leaf, 12.4ms\n",
            "image 134/239 /content/PlantDoc-2/test/images/brleaf2_zoom_jpg.rf.5ba231f3054d0344e8f9c046ec621d55.jpg: 640x640 (no detections), 9.5ms\n",
            "image 135/239 /content/PlantDoc-2/test/images/bugs-and-blight-061_jpg.rf.8fc8f38ba533844ee709bc473580c0bd.jpg: 640x640 1 Tomato Septoria leaf spot, 10.2ms\n",
            "image 136/239 /content/PlantDoc-2/test/images/corn-disease-update-fig-3-gray-leaf-spot_jpg.rf.d5532eac8ba4a4cda3262ee1bfaf8871.jpg: 640x640 1 Corn leaf blight, 11.1ms\n",
            "image 137/239 /content/PlantDoc-2/test/images/corn-gray-leaf-spot-f4_jpg.rf.6e01f3b617900e3c960d2e2a22bf4f2c.jpg: 640x640 1 Corn Gray leaf spot, 1 Corn leaf blight, 9.7ms\n",
            "image 138/239 /content/PlantDoc-2/test/images/d7b79dbc0bca0eb3e63fbe5dfb256ccd53d90a4eb1413_1260x1260_jpg.rf.bee14ce48f2eee372ccccdd0324c2927.jpg: 640x640 1 Apple leaf, 1 Peach leaf, 1 Soyabean leaf, 10.2ms\n",
            "image 139/239 /content/PlantDoc-2/test/images/depositphotos_1323264-Raspberry-leaf-on-white_jpg.rf.6ab546c5b86decc448980a8b021be680.jpg: 640x640 1 Strawberry leaf, 9.7ms\n",
            "image 140/239 /content/PlantDoc-2/test/images/depositphotos_1323551-stock-photo-raspberry-leaves_jpg.rf.42b27cc3487b14f3c6757f6c82c629cd.jpg: 640x640 3 Strawberry leafs, 8.8ms\n",
            "image 141/239 /content/PlantDoc-2/test/images/depositphotos_2795312-stock-photo-green-raspberry-leaf_jpg.rf.26e4fdc06096b4d942fa8fee87f4a7d9.jpg: 640x640 3 Apple leafs, 1 Peach leaf, 1 Raspberry leaf, 1 Soyabean leaf, 1 Strawberry leaf, 7.5ms\n",
            "image 142/239 /content/PlantDoc-2/test/images/depositphotos_3443387-stock-photo-the-green-grape-leaf-on_jpg.rf.e7324b51912973df5ff82e6f851cb81b.jpg: 640x640 (no detections), 6.6ms\n",
            "image 143/239 /content/PlantDoc-2/test/images/depositphotos_3786198-Peach-leaf_jpg.rf.4c1ad99b5e5d840aa5740ae64906ca2d.jpg: 640x640 (no detections), 6.7ms\n",
            "image 144/239 /content/PlantDoc-2/test/images/depositphotos_6898486-stock-photo-grape-leaves_jpg.rf.4d304f7e9de4b2e8339466c41153974c.jpg: 640x640 1 grape leaf, 6.6ms\n",
            "image 145/239 /content/PlantDoc-2/test/images/dsc_8148cs_jpg.rf.5dd14e14d779e10ba61232c36a18b52c.jpg: 640x640 (no detections), 7.2ms\n",
            "image 146/239 /content/PlantDoc-2/test/images/dscn3175_jpg.rf.cfda0a26421a1bf4b927a4d236897b25.jpg: 640x640 (no detections), 6.7ms\n",
            "image 147/239 /content/PlantDoc-2/test/images/dscn6689_jpg.rf.0ca73287efd4e65b650dc695db284a1a.jpg: 640x640 1 Corn leaf blight, 11.8ms\n",
            "image 148/239 /content/PlantDoc-2/test/images/e33155_jpg.rf.56aef74d902338d81dcb96381edb5a23.jpg: 640x640 1 Apple leaf, 1 Peach leaf, 8.5ms\n",
            "image 149/239 /content/PlantDoc-2/test/images/e52bbb9a08ede2948ba0c006f02fe7b053ad7831d1df6_1260x1260_jpg.rf.cdc6c6cbe37f86c3acc3bb2d3be898f7.jpg: 640x640 (no detections), 6.8ms\n",
            "image 150/239 /content/PlantDoc-2/test/images/early-blight-alternaria-alternata-leaf-spotting-on-potato-leaf-X91XJE_jpg.rf.ccbebe59559a1c882aba2fb112f6ef12.jpg: 640x640 (no detections), 6.9ms\n",
            "image 151/239 /content/PlantDoc-2/test/images/early-blight-or-target-spot-alternaria-solani-lesions-on-a-tomato-AXK6AY_jpg.rf.9865b6267607e0850f523d50805c731d.jpg: 640x640 (no detections), 6.9ms\n",
            "image 152/239 /content/PlantDoc-2/test/images/early-blight-septoria-ls-fig-3_jpg.rf.c8cb4c186da18c046454beb45352b346.jpg: 640x640 (no detections), 6.8ms\n",
            "image 153/239 /content/PlantDoc-2/test/images/early_blight1-150x150_jpg.rf.e2635c81dd0a5a9bd3c87b9d952edbef.jpg: 640x640 (no detections), 6.9ms\n",
            "image 154/239 /content/PlantDoc-2/test/images/earlyblight21__jpg.rf.665c19cefe466ca7c6f77b9e18af2eb1.jpg: 640x640 (no detections), 6.9ms\n",
            "image 155/239 /content/PlantDoc-2/test/images/earlyblightpotato_jpg.rf.551edb9906d3e8d636c7a98922f1ead5.jpg: 640x640 (no detections), 6.8ms\n",
            "image 156/239 /content/PlantDoc-2/test/images/ed12ff77ce021883de241830dee55e2e53d2c93231699_1260x1260_jpg.rf.0349b32b542b5b783d138b1b4bfe8fe7.jpg: 640x640 1 Apple leaf, 6.8ms\n",
            "image 157/239 /content/PlantDoc-2/test/images/everystockphoto-21099455-l_jpg.rf.15b79bd3800d4cb940341b37bff7716e.jpg: 640x640 (no detections), 6.5ms\n",
            "image 158/239 /content/PlantDoc-2/test/images/fc729af279e9087d00bd32d89a1552a756a3ad9de7f2b_1260x1260_jpg.rf.73775cb57e84c21c1ffb713974a37017.jpg: 640x640 (no detections), 7.1ms\n",
            "image 159/239 /content/PlantDoc-2/test/images/five-cherry-tree-green-leaves-white-isolated-background-34493587_jpg.rf.7482c54cab38f920bdac7c50e049fe3e.jpg: 640x640 1 Apple leaf, 1 Blueberry leaf, 6.8ms\n",
            "image 160/239 /content/PlantDoc-2/test/images/fresh-soy-leaves-isolated-on-260nw-667193923_jpg.rf.464434b53d70459e29dc24a7ddf8950c.jpg: 640x640 1 Peach leaf, 1 Soyabean leaf, 7.0ms\n",
            "image 161/239 /content/PlantDoc-2/test/images/fungus-univ-of-minnesoeta_jpg.rf.6f9bcbd7c756570e2118a10c76cf4a3f.jpg: 640x640 (no detections), 7.3ms\n",
            "image 162/239 /content/PlantDoc-2/test/images/fwa2013313115151_jpg.rf.a24552b69d449b2884cd32c617c23df8.jpg: 640x640 (no detections), 6.9ms\n",
            "image 163/239 /content/PlantDoc-2/test/images/glyphosate_jpg.rf.e507939957b003c4f5b70037a21529f8.jpg: 640x640 (no detections), 7.8ms\n",
            "image 164/239 /content/PlantDoc-2/test/images/grape-leaf-14309623_jpg.rf.62556833b125dcab68d8af4f82f2b252.jpg: 640x640 (no detections), 6.8ms\n",
            "image 165/239 /content/PlantDoc-2/test/images/grape-leaf-picture-id119212425?k=6&m=119212425&s=612x612&w=0&h=8RZBWGcvXe4tAwhhvYZVFzWyRyiN5iTxKfWBpPT1FcU=_jpg.rf.0f9f62434cfbd3927645af4e12d8893a.jpg: 640x640 3 Strawberry leafs, 7.0ms\n",
            "image 166/239 /content/PlantDoc-2/test/images/grape_F15a_jpg.rf.c39a9ed2da1a7eb6b67d1465721d4b02.jpg: 640x640 1 Tomato Septoria leaf spot, 8.3ms\n",
            "image 167/239 /content/PlantDoc-2/test/images/grapes-leaves_jpg.rf.73614c65b0ffe40de14e6526fc33f265.jpg: 640x640 3 Strawberry leafs, 1 grape leaf black rot, 1 grape leaf, 6.9ms\n",
            "image 168/239 /content/PlantDoc-2/test/images/grapevine-leaf-7466071_jpg.rf.436dfb54657a67eb66b9f0747bfd2d03.jpg: 640x640 1 Strawberry leaf, 8.1ms\n",
            "image 169/239 /content/PlantDoc-2/test/images/ill-tomato-of-tomato-mosaic-virus-DBE17N_jpg.rf.04e257236c57f63e276d261ce9d27d5b.jpg: 640x640 (no detections), 6.9ms\n",
            "image 170/239 /content/PlantDoc-2/test/images/image_jpg.rf.d0c1916433b523c995c43dda5b71042c.jpg: 640x640 1 Squash Powdery mildew leaf, 7.1ms\n",
            "image 171/239 /content/PlantDoc-2/test/images/irish-blight-symptoms-on-potato-leaves-atmf8b_jpg.rf.43f1da91246b3cc66cb7120dc62c756b.jpg: 640x640 (no detections), 7.6ms\n",
            "image 172/239 /content/PlantDoc-2/test/images/iron-deficiency-raspberry-leaf-chlorosis-isolated-32457798_jpg.rf.b142223fbbe6a9912a5f69baabe911a1.jpg: 640x640 1 Raspberry leaf, 2 Strawberry leafs, 7.6ms\n",
            "image 173/239 /content/PlantDoc-2/test/images/late_blight_tomato_leaf_spore1x1200_jpg.rf.be4f787fa793160d344f1b8589fdbc86.jpg: 640x640 (no detections), 7.9ms\n",
            "image 174/239 /content/PlantDoc-2/test/images/latest?cb=20100621160325_jpg.rf.c11efb983a1bb42fad21990a035f9833.jpg: 640x640 1 Strawberry leaf, 8.4ms\n",
            "image 175/239 /content/PlantDoc-2/test/images/leaf-blueberry-15281271_jpg.rf.ddd95e577fab5e6ef659a71e582db1c2.jpg: 640x640 1 Apple leaf, 1 Blueberry leaf, 1 Peach leaf, 1 Soyabean leaf, 6.7ms\n",
            "image 176/239 /content/PlantDoc-2/test/images/leaf-raspberry-isolated-on-a-white-stock-photography-image-10106222-1625198_jpg.rf.348fe046fe812390050fdd7f019e3f15.jpg: 640x640 4 Apple leafs, 1 Blueberry leaf, 2 Peach leafs, 1 Soyabean leaf, 11.6ms\n",
            "image 177/239 /content/PlantDoc-2/test/images/leaves-of-raspberry-stock-picture-2529053_jpg.rf.df0987ab8cead3284daddc9c60a79250.jpg: 640x640 1 Peach leaf, 2 Raspberry leafs, 12.2ms\n",
            "image 178/239 /content/PlantDoc-2/test/images/main-qimg-d9c2a93f60568485c989670d9bbf703b_jpg.rf.ac47e730bae53de745ff08de2a3c4594.jpg: 640x640 1 Strawberry leaf, 11.0ms\n",
            "image 179/239 /content/PlantDoc-2/test/images/northern-highbush-blueberry-blue-huckleberry-vaccinium-corymbosum-EHNXRR_jpg.rf.b90e46b941df8de5f2d24b36f79e8266.jpg: 640x640 (no detections), 14.6ms\n",
            "image 180/239 /content/PlantDoc-2/test/images/page_2_jpg.rf.670693534f9fdfd2ad3f0f12b4196caa.jpg: 640x640 (no detections), 12.1ms\n",
            "image 181/239 /content/PlantDoc-2/test/images/peach-leaf-10223898_jpg.rf.ec42afd8e43fa890ab94b7399ab5d22a.jpg: 640x640 1 Peach leaf, 12.8ms\n",
            "image 182/239 /content/PlantDoc-2/test/images/peach-leaf-16690421_jpg.rf.90f2c83fabc6719830ea5ce570322d5a.jpg: 640x640 (no detections), 12.1ms\n",
            "image 183/239 /content/PlantDoc-2/test/images/peach-leaf-isolated-white-background-42295220_jpg.rf.b843a655e741af5f48a42081ff190909.jpg: 640x640 1 Apple leaf, 2 Peach leafs, 9.9ms\n",
            "image 184/239 /content/PlantDoc-2/test/images/pepper-spot_jpg.rf.728975e064771061de8e577cded0248b.jpg: 640x640 (no detections), 11.8ms\n",
            "image 185/239 /content/PlantDoc-2/test/images/pepper_bacterial-spot_03_zoom_jpg.rf.d2492c6b58f7d60d2ad34f2969f90d12.jpg: 640x640 (no detections), 9.3ms\n",
            "image 186/239 /content/PlantDoc-2/test/images/pepper_leaf_jpg.rf.e94b7226ab3b3f4fe53321e197d3292a.jpg: 640x640 (no detections), 10.2ms\n",
            "image 187/239 /content/PlantDoc-2/test/images/piano%20gully%20spray%20seed%20damage%2006%20%289%29_JPG_jpg.rf.8ddff05857fc55f594e5e9a732e04ff6.jpg: 640x640 (no detections), 9.5ms\n",
            "image 188/239 /content/PlantDoc-2/test/images/potato-blight-phytophthora-infestans-close-up-of-upper-surface-of-BMMRXC_jpg.rf.97d569315560233ec0f070c58edea7f8.jpg: 640x640 (no detections), 11.3ms\n",
            "image 189/239 /content/PlantDoc-2/test/images/potato-early-blight-alternaria-alternata-lesion-on-a-potato-leaf-a1w1em_jpg.rf.b8202552ad5b420ca5a861037c910eec.jpg: 640x640 1 Squash Powdery mildew leaf, 15.2ms\n",
            "image 190/239 /content/PlantDoc-2/test/images/potato-late-blight_jpg.rf.c3ffca85bdf0f18d455655d4dde81ac2.jpg: 640x640 2 Apple leafs, 1 Soyabean leaf, 14.8ms\n",
            "image 191/239 /content/PlantDoc-2/test/images/potatobd001_jpg.rf.bd6c1b3fed8621fbea14fa1458b4986a.jpg: 640x640 1 Potato leaf, 16.4ms\n",
            "image 192/239 /content/PlantDoc-2/test/images/powdery-mildew-erysiphe-plantani-on-young-sycamore-leaves-b774tm_jpg.rf.d23aa9dae8bbdd868919dd5930fc8b1a.jpg: 640x640 1 Squash Powdery mildew leaf, 18.8ms\n",
            "image 193/239 /content/PlantDoc-2/test/images/powdery-mildew-on-pumpkin-leaves-close-up-2_jpg.rf.e085ef7fcf05f537241627c4d8ccf328.jpg: 640x640 1 Squash Powdery mildew leaf, 17.0ms\n",
            "image 194/239 /content/PlantDoc-2/test/images/powdery-mildew-sphaerotheca-fuliginea-infection-on-pumpkin-leaves-ajdkkx_jpg.rf.a541bf5cd3eba3b7504f3042582f07f8.jpg: 640x640 1 Squash Powdery mildew leaf, 18.4ms\n",
            "image 195/239 /content/PlantDoc-2/test/images/prunsero_leaf1_jpg.rf.1f014fc2dd75081c45862b6272395060.jpg: 640x640 (no detections), 11.9ms\n",
            "image 196/239 /content/PlantDoc-2/test/images/prunsero_leaf2_jpg.rf.23061ab12f74441adeb0fa5351a73c21.jpg: 640x640 (no detections), 17.2ms\n",
            "image 197/239 /content/PlantDoc-2/test/images/prunus-virginiana-le-gmittelhauser_jpg.rf.606c7e4bc77604b4aa57cea3b1414d30.jpg: 640x640 (no detections), 11.0ms\n",
            "image 198/239 /content/PlantDoc-2/test/images/red-cherry-tree-leaf-isolated-crisp-white-background-35742030_jpg.rf.38773adabf0bac49b1be3bac1a9cc5dd.jpg: 640x640 (no detections), 13.1ms\n",
            "image 199/239 /content/PlantDoc-2/test/images/resistance1c_jpg.rf.47c88ff956d0ba765be6628c244d8479.jpg: 640x640 (no detections), 11.1ms\n",
            "image 200/239 /content/PlantDoc-2/test/images/rose_tree_220430_jpg.rf.836cc3d39c0c37a289f2fb486768d602.jpg: 640x640 (no detections), 10.2ms\n",
            "image 201/239 /content/PlantDoc-2/test/images/rsz0803Figure6_jpg.rf.63b52e16e2f4cc3d60c5ad89e6b67d39.jpg: 640x640 1 Corn leaf blight, 10.3ms\n",
            "image 202/239 /content/PlantDoc-2/test/images/sept4disease-019_jpg.rf.92af29114e4aaafbd4c89772edfdb1f6.jpg: 640x640 (no detections), 9.9ms\n",
            "image 203/239 /content/PlantDoc-2/test/images/show_picture_asp?id=aaaaaaaaaaogcqq&w2=420&h2=378&clip=center,420,378&meta=0_jpg.rf.60ca1bb806ed39f9a829b5c1788dbe4c.jpg: 640x640 1 Corn Gray leaf spot, 1 Corn leaf blight, 10.1ms\n",
            "image 204/239 /content/PlantDoc-2/test/images/squash-leave-w-powd-mild_jpg.rf.9e6dfdf506c9fbde5630be6deec1452a.jpg: 640x640 1 Squash Powdery mildew leaf, 11.2ms\n",
            "image 205/239 /content/PlantDoc-2/test/images/squashsilver2_JPG_jpg.rf.9bb8e05a124e23fa3b8be75c53a9cfd8.jpg: 640x640 1 Squash Powdery mildew leaf, 8.7ms\n",
            "image 206/239 /content/PlantDoc-2/test/images/stock-photo-blueberry-leaf-closeup-isolated-on-white-306486470_jpg.rf.2207131a48eca1437a602d77ba17ae4b.jpg: 640x640 1 Apple leaf, 16.3ms\n",
            "image 207/239 /content/PlantDoc-2/test/images/stock-photo-cultivar-marrow-leaf-strongly-affected-with-a-powdery-mildew-in-the-summer-garden-707948062_jpg.rf.3b43706509172b61e68a7fc874622a28.jpg: 640x640 (no detections), 14.4ms\n",
            "image 208/239 /content/PlantDoc-2/test/images/stock-photo-fresh-soy-leaves-isolated-on-white-94266130_jpg.rf.06388adda068e38c48dc8440d8d34b57.jpg: 640x640 2 Apple leafs, 10.7ms\n",
            "image 209/239 /content/PlantDoc-2/test/images/stock-photo-fresh-soy-leaves-isolated-on-white-94700095_jpg.rf.5b33c18a9d39c80a65355af0205f5c9b.jpg: 640x640 3 Apple leafs, 1 Blueberry leaf, 2 Peach leafs, 2 Soyabean leafs, 9.2ms\n",
            "image 210/239 /content/PlantDoc-2/test/images/stock-photo-green-blueberry-leaf-isolated-with-clipping-path-550344304_jpg.rf.bcd5ea7d077cbf969ed7904f24c80c8d.jpg: 640x640 1 Apple leaf, 8.7ms\n",
            "image 211/239 /content/PlantDoc-2/test/images/stock-photo-peach-leaf-isolated-on-white-background-281097503_jpg.rf.1d85e8bb22ac81c5ef552f80b0ad774f.jpg: 640x640 1 Peach leaf, 9.7ms\n",
            "image 212/239 /content/PlantDoc-2/test/images/stock-photo-peach-tree-leaf-isolated-over-white-background-back-side-64472731_jpg.rf.1ad83ea82c7b0454f826cd05e0d29cf0.jpg: 640x640 (no detections), 9.1ms\n",
            "image 213/239 /content/PlantDoc-2/test/images/stock-photo-soy-leaf-isolated-on-white-background-120961801_jpg.rf.d43176d9445b437df71b2765133c6d95.jpg: 640x640 3 Apple leafs, 1 Soyabean leaf, 8.3ms\n",
            "image 214/239 /content/PlantDoc-2/test/images/stock-photo-two-sides-of-blueberry-leaf-isolated-on-white-15582232_jpg.rf.d4135b830ea6134eccf692619da53e05.jpg: 640x640 2 Apple leafs, 2 Peach leafs, 8.2ms\n",
            "image 215/239 /content/PlantDoc-2/test/images/strawberry-leaf--stock-photo-1431216_jpg.rf.8999d13edf013b9550909abdb5ff6abc.jpg: 640x640 3 Strawberry leafs, 8.3ms\n",
            "image 216/239 /content/PlantDoc-2/test/images/strawberry-leaf-22360816_jpg.rf.f7dc5ef601100b12fb7329906a47ff02.jpg: 640x640 3 Strawberry leafs, 8.4ms\n",
            "image 217/239 /content/PlantDoc-2/test/images/strawberry-leaves-collection-white-background-36684676_jpg.rf.3aad26c8a57dbcc63da6de2eab643fd1.jpg: 640x640 6 Strawberry leafs, 10.3ms\n",
            "image 218/239 /content/PlantDoc-2/test/images/strawberry-leaves-isolated-white-17473157_jpg.rf.f252ae9e55fc4e0071b8471c4636e01e.jpg: 640x640 5 Strawberry leafs, 8.3ms\n",
            "image 219/239 /content/PlantDoc-2/test/images/strawberry-leaves-isolated-white-34722259_jpg.rf.91dbb527b000aaef9e2a419bc53bef6a.jpg: 640x640 3 Strawberry leafs, 8.4ms\n",
            "image 220/239 /content/PlantDoc-2/test/images/strawberry-leaves-stock-image-948674_jpg.rf.c7483155b3b41072a70e5418223fe8c7.jpg: 640x640 3 Strawberry leafs, 8.4ms\n",
            "image 221/239 /content/PlantDoc-2/test/images/strawberry-leaves-stock-picture-948708_jpg.rf.d9711023a91c34b2d461bdf7afe54fef.jpg: 640x640 3 Strawberry leafs, 8.3ms\n",
            "image 222/239 /content/PlantDoc-2/test/images/strom5_jpg.rf.920470f9ce5a0c31e8cd61d39f9763ce.jpg: 640x640 1 Corn leaf blight, 8.6ms\n",
            "image 223/239 /content/PlantDoc-2/test/images/summersquashpowderymildew_jpg.rf.5f1688c4409188b2faf03b5ce095dc50.jpg: 640x640 1 Squash Powdery mildew leaf, 8.5ms\n",
            "image 224/239 /content/PlantDoc-2/test/images/surface_jpg.rf.5a2c4d7020e2dde449c656023c18e9b2.jpg: 640x640 (no detections), 8.8ms\n",
            "image 225/239 /content/PlantDoc-2/test/images/three-raspberry-green-leaves-isolated-white-background-62022932_jpg.rf.8eff57396c27fcc583e85a29e3c9957e.jpg: 640x640 3 Strawberry leafs, 11.3ms\n",
            "image 226/239 /content/PlantDoc-2/test/images/three-vibrant-leaves-bird-cherry-tree-13905898_jpg.rf.9317ac9ab508086b1135ee6bdbaae13f.jpg: 640x640 1 Blueberry leaf, 3 Peach leafs, 8.4ms\n",
            "image 227/239 /content/PlantDoc-2/test/images/tmv-tomato-34_jpg.rf.d6a405908f82a7b3fb47061708077d2a.jpg: 640x640 (no detections), 8.5ms\n",
            "image 228/239 /content/PlantDoc-2/test/images/tmv-tomato-9_jpg.rf.4ea386f5f6ea792f6998b1156201560e.jpg: 640x640 (no detections), 8.5ms\n",
            "image 229/239 /content/PlantDoc-2/test/images/toma_TMV_jpg.rf.49e8a5f962275ef0d0ab7baf1987056a.jpg: 640x640 (no detections), 9.2ms\n",
            "image 230/239 /content/PlantDoc-2/test/images/tomato_V8_jpg.rf.b80a42bb29c04a47f450f972e2083535.jpg: 640x640 1 Tomato Septoria leaf spot, 9.8ms\n",
            "image 231/239 /content/PlantDoc-2/test/images/tomato_bacterial-speck_01_zoom_jpg.rf.609d6161f9e6c9b84c2bd4b71f6b5725.jpg: 640x640 1 Tomato Septoria leaf spot, 9.2ms\n",
            "image 232/239 /content/PlantDoc-2/test/images/tomato_early-blight_01_zoom_jpg.rf.1949ef14f4147adb55a89175fc165b60.jpg: 640x640 (no detections), 8.1ms\n",
            "image 233/239 /content/PlantDoc-2/test/images/tomato_virus_04_zoom_jpg.rf.84ad325f94b6a7e3b42b9b135edfeb17.jpg: 640x640 1 Peach leaf, 9.0ms\n",
            "image 234/239 /content/PlantDoc-2/test/images/tylcv-seminar-1-638_jpg.rf.41e85bfa1d33aca6dadf665c953ab02d.jpg: 640x640 (no detections), 9.0ms\n",
            "image 235/239 /content/PlantDoc-2/test/images/vaccinium-angustifolium-low-bush-blueberry_0830_124221_jpg.rf.758d0eb0e7cb6801d9989e2e713c1632.jpg: 640x640 (no detections), 8.7ms\n",
            "image 236/239 /content/PlantDoc-2/test/images/vaccinium_angustifolium_leaf2_JPG_jpg.rf.65516b047787df84cb6c0c9b184975b2.jpg: 640x640 1 Apple leaf, 8.2ms\n",
            "image 237/239 /content/PlantDoc-2/test/images/vitis-riparia-le-ahaines-b_jpg.rf.fe8898cd5652268c39905b48bdcdd069.jpg: 640x640 (no detections), 8.3ms\n",
            "image 238/239 /content/PlantDoc-2/test/images/why-are-my-pepper-plants-yellow-yellow-pepper-plants-yellow-leaves-green-veins-pepper-plants-yellow-veins_jpg.rf.9e0fae68152a463cc157b6b763110486.jpg: 640x640 1 Apple leaf, 8.7ms\n",
            "image 239/239 /content/PlantDoc-2/test/images/wild-strawberry-leaf-top-view-rotated-KTBXCY_jpg.rf.892a46acc06e11722d7aeaeb8f79e0f3.jpg: 640x640 3 Strawberry leafs, 8.2ms\n",
            "Speed: 3.0ms preprocess, 11.4ms inference, 1.3ms postprocess per image at shape (1, 3, 640, 640)\n"
          ]
        }
      ]
    },
    {
      "cell_type": "code",
      "source": [
        "from ultralytics import YOLO\n",
        "import torch\n",
        "\n",
        "# Load a model\n",
        "model = YOLO('yolov8n.pt')  # load an official model\n",
        "model = YOLO('/content/runs/detect/train6/weights/best.pt')  # load a custom trained model\n",
        "\n",
        "# Export the model to .pt format\n",
        "torch.save(model.model.state_dict(), 'yolov8n_plant.pt')"
      ],
      "metadata": {
        "id": "Z_PhySBHbY7S"
      },
      "execution_count": null,
      "outputs": []
    },
    {
      "cell_type": "code",
      "source": [
        "from ultralytics import YOLO\n",
        "import torch\n",
        "\n",
        "# Load your trained YOLOv8 model\n",
        "model = YOLO('yolov8n.pt')  # Assuming 'yolov8n.pt' is your trained model file\n",
        "\n",
        "\n",
        "# Export the model to .pt format in the specified directory\n",
        "torch.save(model.model.state_dict(), 'yolov8n_plant.pt')"
      ],
      "metadata": {
        "id": "Nw1jOruCbwu4"
      },
      "execution_count": null,
      "outputs": []
    },
    {
      "cell_type": "code",
      "source": [
        "import cv2\n",
        "import torch\n",
        "from ultralytics import YOLO\n",
        "\n",
        "# Load your trained YOLOv8 model\n",
        "model = YOLO('/content/runs/detect/train6/weights/best.pt')\n",
        "\n",
        "# Initialize webcam\n",
        "cap = cv2.VideoCapture(0)\n",
        "\n",
        "if not cap.isOpened():\n",
        "    print(\"Error: Could not open webcam.\")\n",
        "    exit()\n",
        "\n",
        "while True:\n",
        "    ret, frame = cap.read()\n",
        "    if not ret:\n",
        "        print(\"Error: Failed to capture image.\")\n",
        "        break\n",
        "\n",
        "    # Predict using YOLOv8 model\n",
        "    results = model(frame)\n",
        "\n",
        "    # Draw bounding boxes and labels on the frame\n",
        "    for result in results:\n",
        "        boxes = result.boxes\n",
        "        for box in boxes:\n",
        "            # Get coordinates and other attributes\n",
        "            x1, y1, x2, y2 = box.xyxy[0].tolist()\n",
        "            confidence = box.conf.tolist()[0]\n",
        "            cls = int(box.cls.tolist()[0])\n",
        "            label = model.names[cls]\n",
        "\n",
        "            # Draw bounding box\n",
        "            cv2.rectangle(frame, (int(x1), int(y1)), (int(x2), int(y2)), (0, 255, 0), 2)\n",
        "            # Put label\n",
        "            cv2.putText(frame, f'{label} {confidence:.2f}', (int(x1), int(y1) - 10), cv2.FONT_HERSHEY_SIMPLEX, 0.9, (36, 255, 12), 2)\n",
        "\n",
        "    # Display the frame\n",
        "    cv2.imshow('Plant Disease Detection', frame)\n",
        "\n",
        "    # Break the loop on 'q' key press\n",
        "    if cv2.waitKey(1) & 0xFF == ord('q'):\n",
        "        break\n",
        "\n",
        "# Release the capture and close windows\n",
        "cap.release()\n",
        "cv2.destroyAllWindows()"
      ],
      "metadata": {
        "id": "wNboItoucDKK",
        "colab": {
          "base_uri": "https://localhost:8080/"
        },
        "outputId": "6184ce91-3e1b-4510-b721-7dcc09252546"
      },
      "execution_count": null,
      "outputs": [
        {
          "output_type": "stream",
          "name": "stdout",
          "text": [
            "Error: Could not open webcam.\n",
            "Error: Failed to capture image.\n"
          ]
        }
      ]
    },
    {
      "cell_type": "code",
      "source": [
        "import cv2\n",
        "from ultralytics import YOLO\n",
        "\n",
        "# Load your trained YOLOv8 model\n",
        "model = YOLO(\"/content/runs/detect/train6/weights\")\n",
        "\n",
        "# Define path to video file\n",
        "source = \"C:/Users/PC/Desktop/46.mp4\"\n",
        "\n",
        "# Open video file\n",
        "cap = cv2.VideoCapture(source)\n",
        "\n",
        "if not cap.isOpened():\n",
        "    print(f\"Error: Could not open video {source}\")\n",
        "    exit()\n",
        "\n",
        "while True:\n",
        "    ret, frame = cap.read()\n",
        "    if not ret:\n",
        "        print(\"End of video or error reading frame.\")\n",
        "        break\n",
        "\n",
        "    # Run inference on the frame\n",
        "    results = model(frame)\n",
        "\n",
        "    # Process the results\n",
        "    for result in results:\n",
        "        boxes = result.boxes\n",
        "        for box in boxes:\n",
        "            # Get coordinates and other attributes\n",
        "            x1, y1, x2, y2 = box.xyxy[0].tolist()\n",
        "            confidence = box.conf.tolist()[0]\n",
        "            cls = int(box.cls.tolist()[0])\n",
        "            label = model.names[cls]\n",
        "\n",
        "            # Draw bounding box\n",
        "            cv2.rectangle(frame, (int(x1), int(y1)), (int(x2), int(y2)), (0, 255, 0), 2)\n",
        "            # Put label\n",
        "            cv2.putText(frame, f'{label} {confidence:.2f}', (int(x1), int(y1) - 10), cv2.FONT_HERSHEY_SIMPLEX, 0.9, (36, 255, 12), 2)\n",
        "\n",
        "    # Display the frame\n",
        "    cv2.imshow('Tomato Plant Disease Detection', frame)\n",
        "\n",
        "    # Break the loop on 'q' key press\n",
        "    if cv2.waitKey(1) & 0xFF == ord('q'):\n",
        "        break\n",
        "\n",
        "# Release the capture and close windows\n",
        "cap.release()\n",
        "cv2.destroyAllWindows()"
      ],
      "metadata": {
        "colab": {
          "base_uri": "https://localhost:8080/"
        },
        "id": "YbKNylLlRTop",
        "outputId": "c188d5c8-1240-4632-b31f-b88369f5c9bb"
      },
      "execution_count": null,
      "outputs": [
        {
          "output_type": "stream",
          "name": "stdout",
          "text": [
            "Error: Could not open video C:/Users/PC/Desktop/46.mp4\n",
            "End of video or error reading frame.\n"
          ]
        }
      ]
    },
    {
      "cell_type": "code",
      "source": [],
      "metadata": {
        "id": "XAZbk6S0V_jl"
      },
      "execution_count": null,
      "outputs": []
    }
  ]
}